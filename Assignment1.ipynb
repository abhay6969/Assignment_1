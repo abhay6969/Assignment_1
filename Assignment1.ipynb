{
 "cells": [
  {
   "cell_type": "code",
   "execution_count": null,
   "id": "3b92c3d4-aec6-41ef-9bc9-60d07263c844",
   "metadata": {},
   "outputs": [],
   "source": [
    "Answer 1 👉 Python Programming Language was Developed by Guido Van Rossum.\n",
    "\n",
    "Answer 2 👉 Python supports Object Oriented Programming i.e. everything in Python is treated as objects and their methods.\n",
    "\n",
    "Answer 3 👉 Yes, Python is a case-sensitive language and when two variables in python have same name but different case they are treated differently.\n",
    "\n",
    "Answer 4 👉 Python Files are saved with “.py” extension.\n",
    "\n",
    "Answer 5 👉 Python code is Compiled as well as Interpreted. In Python the code is first \n",
    "Compiled into Byte code and then Interpreted into Machine code.\n",
    "\n",
    "Answer 6 👉 A Block of code is made to do a specific task and in Python this Block of code can be defined using Indentation.\n",
    "\n",
    "Answer 7 👉 In Python we can define Single as well as Multi-line Comments and to define Single-line Comments we use “#” symbol before writing a comment.\n",
    "\n",
    "Answer 8 👉 We can find the Current Version of the Python  either by using python_version () Function which we can import from platform library or by using  python -V  in the  Terminal.\n",
    "\n",
    "Answer 9 👉 Python supports the creation of anonymous function at run-time, using a construct called Lambda.\n",
    "\n",
    "Answer 10 👉 PIP stands for “Preferred Installer Program”.\n",
    "\n",
    "Answer 11 👉 Some of the Built-in Functions in Python are:\n",
    "len() : To find Length of something.\n",
    "int() : To convert anything into integer datatype.\n",
    "list() : To Make a list of something.\n",
    "\n",
    "Answer 12 👉 The Maximum possible length of an Identifier in Python is 79 characters.\n",
    "\n",
    "Answer 13 👉 Python is an Object Oriented Language with everything being an Object having some properties and methods. Python is easy to learn and it has various Libraries which can be used in various fields.\n",
    "\n",
    "Answer 14 👉 In Python , memory is managed with the help of Python Manager. Python Manager does all the allocation and deallocation in Python.\n",
    "\n",
    "Answer 15 👉 First of all, Download Python from the Official site and then Install it in your windows system and save the Path where you have saved your main Python files.\n",
    "To set the Path variables first Right click on My Computer and select Properties.\n",
    "Click on Advanced System Settings.\n",
    "Click on Environment Variable tab.\n",
    "Click on New tab of User Variable.\n",
    "Write Path in variable name.\n",
    "Add the Copied path of the Python Folder in the variable address.\n",
    "Click on OK.\n",
    "\n",
    "Answer 16 👉 Yes, In python Indentation is necessary as it makes blocks of codes with the help of Indentation.\n"
   ]
  }
 ],
 "metadata": {
  "kernelspec": {
   "display_name": "Python 3 (ipykernel)",
   "language": "python",
   "name": "python3"
  },
  "language_info": {
   "codemirror_mode": {
    "name": "ipython",
    "version": 3
   },
   "file_extension": ".py",
   "mimetype": "text/x-python",
   "name": "python",
   "nbconvert_exporter": "python",
   "pygments_lexer": "ipython3",
   "version": "3.10.8"
  }
 },
 "nbformat": 4,
 "nbformat_minor": 5
}
