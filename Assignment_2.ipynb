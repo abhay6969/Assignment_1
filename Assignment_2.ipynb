{
 "cells": [
  {
   "cell_type": "code",
   "execution_count": 2,
   "id": "6299bb98-a52d-4dfc-b2e4-adbba9bafb6a",
   "metadata": {},
   "outputs": [
    {
     "data": {
      "text/plain": [
       "[1, 3, 5, 7, 9, 11, 13, 15, 17, 19, 21, 23, 25]"
      ]
     },
     "execution_count": 2,
     "metadata": {},
     "output_type": "execute_result"
    }
   ],
   "source": [
    "#Answer 1: def Keyword is used to create a function in Python\n",
    "list = [i for i in range(0,26)]\n",
    "def re_odd(list):\n",
    "    return [i for i in list if i%2 != 0]\n",
    "re_odd(list)"
   ]
  },
  {
   "cell_type": "code",
   "execution_count": 5,
   "id": "b285a114-e58f-4353-85cf-9f1f5224fb20",
   "metadata": {},
   "outputs": [
    {
     "data": {
      "text/plain": [
       "((2, 3, 4), {'a': 2, 'b': 4, 'c': 7})"
      ]
     },
     "execution_count": 5,
     "metadata": {},
     "output_type": "execute_result"
    }
   ],
   "source": [
    "\"\"\"Answer 2: *args is used in function so to allow any number of arguments and the returned value is in tuple form\n",
    " Whereas **kargs is used to convert the taken arguments in dictionary format .\"\"\"\n",
    "def args_use(*args):\n",
    "    return args\n",
    "\n",
    "def kargs_use(**kargs):\n",
    "    return kargs\n",
    "\n",
    "args_use(2,3,4),kargs_use(a=2,b=4,c=7)"
   ]
  },
  {
   "cell_type": "code",
   "execution_count": 12,
   "id": "4e2ae3c1-30b3-4172-b21a-ee1869a70109",
   "metadata": {},
   "outputs": [
    {
     "name": "stdout",
     "output_type": "stream",
     "text": [
      "2\n",
      "4\n",
      "6\n",
      "8\n",
      "10\n",
      "2\n",
      "4\n",
      "6\n",
      "8\n",
      "10\n"
     ]
    },
    {
     "data": {
      "text/plain": [
       "(None, None)"
      ]
     },
     "execution_count": 12,
     "metadata": {},
     "output_type": "execute_result"
    }
   ],
   "source": [
    "\"\"\"Answer 3: An Iterator is an object in python which hepls us in iterating over iterable objects like list and dictionary.\n",
    "for loop and iter() and next() are some of the Iterators\"\"\"\n",
    "l = [2,4,6,8,10,12,14,16,18,20]\n",
    "\n",
    "#Use of iter() and next() function for Iteration\n",
    "def iterator_iter(l):\n",
    "    iter_me = iter(l)\n",
    "    print(next(iter_me))\n",
    "    print(next(iter_me))\n",
    "    print(next(iter_me))\n",
    "    print(next(iter_me))\n",
    "    print(next(iter_me))\n",
    "\n",
    "def iterator_for(l):\n",
    "    for i in range(0,5):\n",
    "        print(l[i])\n",
    "        \n",
    "iterator_for(l) ,iterator_iter(l)  "
   ]
  },
  {
   "cell_type": "code",
   "execution_count": 1,
   "id": "562fe2a1-b9b4-46c2-a4f7-6a5901ced6eb",
   "metadata": {},
   "outputs": [
    {
     "name": "stdout",
     "output_type": "stream",
     "text": [
      "0\n",
      "1\n",
      "8\n",
      "27\n",
      "64\n"
     ]
    }
   ],
   "source": [
    "\"\"\"Answer 4: A Generator Function is a special type of function which doesn't return a single value but\n",
    "a sequence of values \"\"\"\n",
    "\"\"\"Yield keyword is the one that makes up a generator function. Yield returns a value and maintains the\n",
    "internal state of the Program.\"\"\"\n",
    "\n",
    "def cube(x):\n",
    "    for i in range(x):\n",
    "        yield i*i*i\n",
    "cu = cube(5)\n",
    "for s in cu:\n",
    "    print(s)"
   ]
  },
  {
   "cell_type": "code",
   "execution_count": 8,
   "id": "f84c1ce2-34e6-4234-ad64-c5ce2f2f7a66",
   "metadata": {},
   "outputs": [
    {
     "name": "stdout",
     "output_type": "stream",
     "text": [
      "2\n",
      "3\n",
      "5\n",
      "7\n",
      "9\n",
      "11\n",
      "13\n",
      "15\n",
      "17\n",
      "19\n",
      "21\n",
      "23\n",
      "25\n",
      "27\n",
      "29\n",
      "31\n",
      "33\n",
      "35\n",
      "37\n",
      "39\n"
     ]
    }
   ],
   "source": [
    "#Answer 5\n",
    "def Prime(n):\n",
    "    if (n <= 1):\n",
    "        return False\n",
    "    if (n == 2):\n",
    "        return True\n",
    "    if (n%2 == 0):\n",
    "        return False\n",
    "    i=2\n",
    "    while i <= n/2:\n",
    "        if n%i == 0:\n",
    "            return False\n",
    "        i = i+2\n",
    "    return True  \n",
    "\n",
    "def generator(lim =1000):\n",
    "    n=2\n",
    "    while True:\n",
    "        if n<lim:\n",
    "            if Prime(n):\n",
    "                yield n\n",
    "            n =n+1\n",
    "        else:\n",
    "            break\n",
    "    \n",
    "gen = generator()\n",
    "for x in range(0,20):\n",
    "    print(next(gen))"
   ]
  },
  {
   "cell_type": "code",
   "execution_count": 20,
   "id": "33117e6a-033b-464b-84c7-af29893b0b2b",
   "metadata": {},
   "outputs": [
    {
     "name": "stdout",
     "output_type": "stream",
     "text": [
      "0\n",
      "1\n",
      "1\n",
      "2\n",
      "3\n",
      "5\n",
      "8\n",
      "13\n",
      "21\n",
      "34\n"
     ]
    }
   ],
   "source": [
    "#Answer 6\n",
    "def fib(n=10):\n",
    "    a,b,c = 0,1,0\n",
    "    while c<n:\n",
    "        yield a\n",
    "        a,b = b,a+b\n",
    "        c+=1\n",
    "\n",
    "objr = fib()\n",
    "for i in objr:\n",
    "    print(i)"
   ]
  },
  {
   "cell_type": "code",
   "execution_count": 22,
   "id": "415c60a2-7d30-4049-a4fe-1b038d917a67",
   "metadata": {},
   "outputs": [
    {
     "data": {
      "text/plain": [
       "['p', 'w', 's', 'k', 'i', 'l', 'l', 's']"
      ]
     },
     "execution_count": 22,
     "metadata": {},
     "output_type": "execute_result"
    }
   ],
   "source": [
    "#Answer 7\n",
    "s = \"pwskills\"\n",
    "l = [i for i in s]\n",
    "l"
   ]
  },
  {
   "cell_type": "code",
   "execution_count": 2,
   "id": "1c61c8e6-7f9a-4872-aa9d-b74a1add8755",
   "metadata": {},
   "outputs": [
    {
     "data": {
      "text/plain": [
       "True"
      ]
     },
     "execution_count": 2,
     "metadata": {},
     "output_type": "execute_result"
    }
   ],
   "source": [
    "#Answer 8\n",
    "def palindrome(n):\n",
    "    n1 = n\n",
    "    new = 0\n",
    "    while n>0:\n",
    "        rem = n%10\n",
    "        new = (new*10) + rem\n",
    "        n = n//10\n",
    "    if new == n1:\n",
    "        return True\n",
    "    else:\n",
    "        return False\n",
    "palindrome(11)"
   ]
  },
  {
   "cell_type": "code",
   "execution_count": 5,
   "id": "41207f75-bfad-4233-9a68-b7bbed954380",
   "metadata": {},
   "outputs": [
    {
     "name": "stdout",
     "output_type": "stream",
     "text": [
      "[1, 3, 5, 7, 9, 11, 13, 15, 17, 19, 21, 23, 25, 27, 29, 31, 33, 35, 37, 39, 41, 43, 45, 47, 49, 51, 53, 55, 57, 59, 61, 63, 65, 67, 69, 71, 73, 75, 77, 79, 81, 83, 85, 87, 89, 91, 93, 95, 97, 99]\n"
     ]
    }
   ],
   "source": [
    "#Answer 9\n",
    "def odd():\n",
    "    return [i for i in range(0,100) if i%2 != 0]\n",
    "l = odd()\n",
    "print(l)"
   ]
  },
  {
   "cell_type": "code",
   "execution_count": null,
   "id": "983ba057-2925-4608-8ae3-dbc8bdce17f9",
   "metadata": {},
   "outputs": [],
   "source": []
  }
 ],
 "metadata": {
  "kernelspec": {
   "display_name": "Python 3 (ipykernel)",
   "language": "python",
   "name": "python3"
  },
  "language_info": {
   "codemirror_mode": {
    "name": "ipython",
    "version": 3
   },
   "file_extension": ".py",
   "mimetype": "text/x-python",
   "name": "python",
   "nbconvert_exporter": "python",
   "pygments_lexer": "ipython3",
   "version": "3.10.8"
  }
 },
 "nbformat": 4,
 "nbformat_minor": 5
}
