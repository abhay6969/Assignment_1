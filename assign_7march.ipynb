{
 "cells": [
  {
   "cell_type": "code",
   "execution_count": null,
   "id": "82f020af-3cfe-425f-8de9-b3cce3545c0d",
   "metadata": {},
   "outputs": [],
   "source": [
    "\"\"\"Answer 1:\n",
    "Three measures of Central Tendancy are:\n",
    "1. Mean : This is used to calculate the average value of a group of data.Mean equals to sum of\n",
    "all the digits divided by the number of digits present.It is prone to Outliers.\n",
    "2. Median : This is used to Calculate the middle most number from the data. To calculate median\n",
    "firstly, we need to arrange the given data into ascending order then find the middle most element.\n",
    "The Median doesn't get affected by the Outliers present in the data.\n",
    "3. Mode : This is used to give the value which occurs the most number of times in the data. \n",
    "\"\"\""
   ]
  },
  {
   "cell_type": "code",
   "execution_count": null,
   "id": "7436314d-393f-4511-8ac1-bfc88b2b3e16",
   "metadata": {},
   "outputs": [],
   "source": [
    "\"\"\"Answer 2:\n",
    "Mean - The mean is the average of a set of numbers, which is calculated by adding up all the values in \n",
    "the set and then dividing by the total number of values.\n",
    "Median - The median is the middle value in a set of numbers when they are arranged in order from\n",
    "lowest to highest.\n",
    "Mode - The mode is the value that appears most frequently in a set of numbers.\n",
    "\n",
    "The mean is often used to summarize data when the distribution does nothave many outliers. The\n",
    "median is preferred when the data is skewed or when there are outliers that could distort the mean.\n",
    "The mode is useful when the data has a clear peak or is bimodal, which means it has two peaks.\n",
    "\"\"\""
   ]
  },
  {
   "cell_type": "code",
   "execution_count": 15,
   "id": "49583694-e152-4012-a840-a8bd1f07a58b",
   "metadata": {},
   "outputs": [
    {
     "name": "stderr",
     "output_type": "stream",
     "text": [
      "/tmp/ipykernel_77/2397751334.py:6: FutureWarning: Unlike other reduction functions (e.g. `skew`, `kurtosis`), the default behavior of `mode` typically preserves the axis it acts along. In SciPy 1.11.0, this behavior will change: the default value of `keepdims` will become False, the `axis` over which the statistic is taken will be eliminated, and the value None will no longer be accepted. Set `keepdims` to True or False to avoid this warning.\n",
      "  [np.mean(b),np.median(b),st.mode(b)]\n"
     ]
    },
    {
     "data": {
      "text/plain": [
       "[177.01875, 177.0, ModeResult(mode=array([177.]), count=array([3]))]"
      ]
     },
     "execution_count": 15,
     "metadata": {},
     "output_type": "execute_result"
    }
   ],
   "source": [
    "#Answer 3:\n",
    "import numpy as np\n",
    "from scipy import stats as st\n",
    "a = [178,177,176,177,178.2,178,175,179,180,175,178.9,176.2,177,172.5,178,176.5]\n",
    "b =np.array(a)\n",
    "[np.mean(b),np.median(b),st.mode(b)]"
   ]
  },
  {
   "cell_type": "code",
   "execution_count": 17,
   "id": "19e7ac88-3de5-4c40-b12c-565030c926f7",
   "metadata": {},
   "outputs": [
    {
     "data": {
      "text/plain": [
       "1.7885814036548633"
      ]
     },
     "execution_count": 17,
     "metadata": {},
     "output_type": "execute_result"
    }
   ],
   "source": [
    "#Answer 4:\n",
    "a = [178,177,176,177,178.2,178,175,179,180,175,178.9,176.2,177,172.5,178,176.5]\n",
    "b =np.array(a)\n",
    "np.std(b)"
   ]
  },
  {
   "cell_type": "code",
   "execution_count": 28,
   "id": "a54c7997-ab2f-4e41-ae3a-75a74ef6b642",
   "metadata": {},
   "outputs": [
    {
     "data": {
      "text/plain": [
       "(2.813959371941744, 7.918367346938775, 8)"
      ]
     },
     "execution_count": 28,
     "metadata": {},
     "output_type": "execute_result"
    }
   ],
   "source": [
    "\"\"\"Answer 5:\n",
    "1. Range - The range is calculated by subtracting the lowest value from the highest value in a \n",
    "dataset. It shows the total spread of the data but is affected by outliers and extreme values.\n",
    "2. Varience -  It is calculated by taking the average of the squared deviations from the mean. The\n",
    "larger the variance, the more spread out the data is.\n",
    "3. Standard Deviation - Standard deviation is the square root of the variance. A larger standard \n",
    "deviation means that the data is more spread out or more variable, while a smaller standard\n",
    "deviation indicates that the data is more tightly clustered around the mean. \"\"\"\n",
    "\n",
    "a = [1,4,7,8,3,8,9]\n",
    "b = np.array(a)\n",
    "np.std(b),np.var(b),np.ptp(b)\n",
    "\n",
    "\"\"\"The range is 8 (9 - 1), which tells us that the values in the dataset range from 1 to 9. The\n",
    "variance is 7.918, which indicates that the data is moderately spread out. The standard deviation is\n",
    "2.813, which tells us that the typical distance between each number and the mean is 2.813.\"\"\""
   ]
  },
  {
   "cell_type": "code",
   "execution_count": null,
   "id": "ecf66c6a-5746-40ba-bc7b-8aad5bb9bda1",
   "metadata": {},
   "outputs": [],
   "source": [
    "\"\"\"Answer 6:\n",
    "A Venn diagram is a visual representation of the relationships between sets of items.Venn diagrams\n",
    "are often used in mathematics and statistics to illustrate set theory, logical relationships, and \n",
    "probability. They can also be used in other fields to show relationships between different \n",
    "categories or groups of items.\"\"\""
   ]
  },
  {
   "cell_type": "code",
   "execution_count": 34,
   "id": "3ec52cb5-d340-4471-a5f8-038fa944a332",
   "metadata": {},
   "outputs": [
    {
     "name": "stdout",
     "output_type": "stream",
     "text": [
      "{2, 3, 4, 5, 6, 7} Union {0, 2, 6, 8, 10} is {0, 2, 3, 4, 5, 6, 7, 8, 10} and {2, 3, 4, 5, 6, 7} Intersection {0, 2, 6, 8, 10} {2, 6}\n"
     ]
    }
   ],
   "source": [
    "#Answer 7:\n",
    "a= {2, 3, 4, 5, 6, 7}\n",
    "b = {0, 2, 6, 8, 10}\n",
    "\n",
    "# intersection of A and B\n",
    "c1 = a.intersection(b)\n",
    "\n",
    "# union of A and B\n",
    "c2 = a.union(b)\n",
    "print(f\"{a} Union {b} is {c2} and {a} Intersection {b} {c1}\")"
   ]
  },
  {
   "cell_type": "code",
   "execution_count": null,
   "id": "caefbbbe-68b1-47b2-93cb-57273fadb420",
   "metadata": {},
   "outputs": [],
   "source": [
    "\"\"\"Answer 8:\n",
    "Skewness is a measure of the lack of symmetry of a probability distribution. In other words, it \n",
    "measures the degree to which a distribution is stretched out on one side or the other of its center\n",
    "point.It is commonly used to identify any outliers or unusual values that may affect the accuracy of\n",
    "statistical models.\"\"\""
   ]
  },
  {
   "cell_type": "code",
   "execution_count": 36,
   "id": "25b968da-e845-4f80-9f46-c5b0256f8451",
   "metadata": {},
   "outputs": [
    {
     "data": {
      "text/plain": [
       "(14.090909090909092, 6.0)"
      ]
     },
     "execution_count": 36,
     "metadata": {},
     "output_type": "execute_result"
    }
   ],
   "source": [
    "\"\"\"Answer 9:\n",
    "If a data set is right skewed, the mean will be greater than the median. This is because there are\n",
    "a few extreme values that are much larger than the majority of the values in the dataset. These\n",
    "extreme values pull the mean to the right of the median.\n",
    "\"\"\"\n",
    "a = [1, 2, 3, 4, 5, 6, 7, 8, 9, 10, 100]\n",
    "np.mean(a),np.median(a)#This Happens because of the 100 that is present in the array"
   ]
  },
  {
   "cell_type": "code",
   "execution_count": null,
   "id": "b138a68e-0f35-4968-a085-ced02eb24f01",
   "metadata": {},
   "outputs": [],
   "source": [
    "\"\"\"Answer 10:\n",
    "Covarience : Indicates how much two variables change together.A positive covariance indicates \n",
    "that the two variables tend to increase or decrease together, while a negative covariance indicates\n",
    "that one variable tends to increase when the other decreases.\n",
    "Correlation : t is calculated as the covariance between the variables divided by the product of \n",
    "their standard deviations.Ranges from -1 to 1, with a value of 1 indicating a perfect positive\n",
    "correlation, a value of -1 indicating a perfect negative correlation, and a value of 0 indicating \n",
    "no correlation.\n",
    "\"\"\""
   ]
  },
  {
   "cell_type": "code",
   "execution_count": 41,
   "id": "89f8b90c-0e49-47a7-b1fe-7d7966375fff",
   "metadata": {},
   "outputs": [
    {
     "name": "stdout",
     "output_type": "stream",
     "text": [
      "Therefore, the sample mean test score for these 10 students is 85.8.\n"
     ]
    }
   ],
   "source": [
    "\"\"\"Answer 11:\n",
    "sample mean = (sum of all values in the sample) / (number of values in the sample)\n",
    "\n",
    "In symbols:\n",
    "x̄ = Σx / n\n",
    "\n",
    "where x̄ is the sample mean, Σx is the sum of all values in the sample, and n is the number of \n",
    "values in the sample.\n",
    "\"\"\"\n",
    "\n",
    "\n",
    "a = [85, 76, 92, 88, 75, 81, 89, 95, 87, 90]\n",
    "\n",
    "x = (85 + 76 + 92 + 88 + 75 + 81 + 89 + 95 + 87 + 90) / 10\n",
    "\n",
    "x = 858 / 10\n",
    "\n",
    "x = 85.8\n",
    "\n",
    "print(f\"Therefore, the sample mean test score for these 10 students is 85.8.\")\n",
    "\n",
    "\n",
    "\n",
    "\n",
    "\n"
   ]
  },
  {
   "cell_type": "code",
   "execution_count": null,
   "id": "739239df-acf8-474c-a85f-207ab2d1c4b5",
   "metadata": {},
   "outputs": [],
   "source": [
    "\"\"\"Answer 12:\n",
    "For a normal distribution data, the mean, median, and mode are all equal and are located at the \n",
    "center of the distribution. This is because the normal distribution is a bell-shaped \n",
    "curve, with half of the data falling on each side of the mean\"\"\""
   ]
  },
  {
   "cell_type": "code",
   "execution_count": null,
   "id": "5805e8d9-1d2f-4006-a006-4bd43a8621eb",
   "metadata": {},
   "outputs": [],
   "source": [
    "\"\"\"Answer 13:\n",
    "Correlation measures the strength and direction of the relationship between two variables on a \n",
    "scale of -1 to +1, making it easier to compare the relationships across different datasets.\n",
    "Covariance is expressed in the units of the variables being measured, while correlation is unitless.\n",
    "Correlation is often interpreted as indicating the degree to which two variables are related, while\n",
    "covariance only indicates the direction of the relationship \"\"\""
   ]
  },
  {
   "cell_type": "code",
   "execution_count": 44,
   "id": "6ad946b3-a1d5-45d6-b04b-ca7ba56b8fcb",
   "metadata": {},
   "outputs": [
    {
     "data": {
      "text/plain": [
       "(80.58333333333333, 89.5)"
      ]
     },
     "execution_count": 44,
     "metadata": {},
     "output_type": "execute_result"
    }
   ],
   "source": [
    "\"\"\"Answer 14 :\n",
    "Outliers can have a significant impact on measures of central tendency and dispersion, leading \n",
    "to inaccurate or misleading results.Outliers can also have an impact on measures of dispersion, \n",
    "such as range and standard deviation.\"\"\"\n",
    "a = [20,75, 78, 85, 89, 90, 92, 94, 96, 98, 100,50]\n",
    "np.mean(a),np.median(a)"
   ]
  },
  {
   "cell_type": "code",
   "execution_count": null,
   "id": "76762695-78b0-4918-ba28-be8ac998958e",
   "metadata": {},
   "outputs": [],
   "source": []
  }
 ],
 "metadata": {
  "kernelspec": {
   "display_name": "Python 3 (ipykernel)",
   "language": "python",
   "name": "python3"
  },
  "language_info": {
   "codemirror_mode": {
    "name": "ipython",
    "version": 3
   },
   "file_extension": ".py",
   "mimetype": "text/x-python",
   "name": "python",
   "nbconvert_exporter": "python",
   "pygments_lexer": "ipython3",
   "version": "3.10.8"
  }
 },
 "nbformat": 4,
 "nbformat_minor": 5
}
