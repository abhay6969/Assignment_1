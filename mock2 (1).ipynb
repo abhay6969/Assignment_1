{
 "cells": [
  {
   "cell_type": "code",
   "execution_count": 45,
   "id": "97fd5f5f-e21f-43b7-9e85-009dc7437828",
   "metadata": {},
   "outputs": [],
   "source": [
    "#Question 1\n",
    "\"\"\"Write a function that takes a list of numbers as input and returns a new list\n",
    "containing only the even numbers from the input list. Use list comprehension to \n",
    "solve this problem.\"\"\""
   ]
  },
  {
   "cell_type": "code",
   "execution_count": 46,
   "id": "542ad2d3-b430-4d4d-86bc-ca96e531d301",
   "metadata": {},
   "outputs": [],
   "source": [
    "ev = lambda x:True if x%2==0 else False"
   ]
  },
  {
   "cell_type": "code",
   "execution_count": 47,
   "id": "a22ef2ec-c718-4d79-8eef-cc95f1fca13b",
   "metadata": {},
   "outputs": [
    {
     "data": {
      "text/plain": [
       "[2, 6, 4, 6]"
      ]
     },
     "execution_count": 47,
     "metadata": {},
     "output_type": "execute_result"
    }
   ],
   "source": [
    "l1 = []\n",
    "def evenme(l):\n",
    "    for i in l:\n",
    "        if ev(i) == True:\n",
    "                l1.append(i)\n",
    "    return l1\n",
    "l = [2,6,5,4,3,7,6,5]\n",
    "l1 = evenme(l)\n",
    "l1"
   ]
  },
  {
   "cell_type": "code",
   "execution_count": 48,
   "id": "3fe96c75-1427-4a53-b613-cdb8269027f4",
   "metadata": {},
   "outputs": [],
   "source": [
    "#Question 2\n",
    "\"\"\"Implement a decorator function called ‘timer’ that measures the execution time of \n",
    "a function. The ‘timer’ decorator should print the time taken by the decorated function\n",
    "to execute. Use the ‘time’ module in Python to calculate the execution time.\"\"\""
   ]
  },
  {
   "cell_type": "code",
   "execution_count": 49,
   "id": "a936a5c8-357f-4367-b17b-e2fe66bd26a1",
   "metadata": {},
   "outputs": [],
   "source": [
    "import time\n",
    "def times(func):\n",
    "    def wrap(*args,**kargs):\n",
    "        start = time.time()\n",
    "        result = func(*args,**kargs)\n",
    "        end = time.time()\n",
    "        compl = end-start\n",
    "        print(f\"Execution time if {compl} seconds\")\n",
    "        return result\n",
    "    return wrap"
   ]
  },
  {
   "cell_type": "code",
   "execution_count": 50,
   "id": "0cc644f2-3feb-4526-9c49-b949349779a5",
   "metadata": {},
   "outputs": [],
   "source": [
    "@times\n",
    "def fun(a):\n",
    "    if a==0 or a== 1 : return 1\n",
    "    return a*fun(a-1)"
   ]
  },
  {
   "cell_type": "code",
   "execution_count": 51,
   "id": "c7b690d4-52fd-4d5c-a425-e328ebba4af4",
   "metadata": {},
   "outputs": [
    {
     "name": "stdout",
     "output_type": "stream",
     "text": [
      "Execution time if 7.152557373046875e-07 seconds\n",
      "Execution time if 6.4849853515625e-05 seconds\n",
      "Execution time if 7.43865966796875e-05 seconds\n",
      "Execution time if 8.153915405273438e-05 seconds\n",
      "Execution time if 8.869171142578125e-05 seconds\n"
     ]
    },
    {
     "data": {
      "text/plain": [
       "120"
      ]
     },
     "execution_count": 51,
     "metadata": {},
     "output_type": "execute_result"
    }
   ],
   "source": [
    "fun(5)"
   ]
  },
  {
   "cell_type": "code",
   "execution_count": 52,
   "id": "c575b86c-da34-48b0-9088-510e3f85f694",
   "metadata": {},
   "outputs": [],
   "source": [
    "#Question 3\n",
    "\"\"\"Write a function called ‘calculate_mean’ that takes a list of numbers as input\n",
    "and returns the mean (average) of the numbers. The function should calculate the mean\n",
    "using the sum of the numbers divided by the total count.\"\"\"\n",
    "\n",
    "def meanme(n):\n",
    "    list = [0]*n\n",
    "    i=0\n",
    "    sum = 0\n",
    "    while i!= n:\n",
    "        list[i] = int(input(\"Enter the number\"))\n",
    "        sum += list[i]\n",
    "        i+=1\n",
    "        \n",
    "    return sum/n\n",
    "    "
   ]
  },
  {
   "cell_type": "code",
   "execution_count": 54,
   "id": "ca5f13fa-caac-4f5e-9e43-d240a5035e6b",
   "metadata": {},
   "outputs": [
    {
     "name": "stdin",
     "output_type": "stream",
     "text": [
      "Enter the number 5\n",
      "Enter the number 3\n",
      "Enter the number 2\n",
      "Enter the number 5\n"
     ]
    },
    {
     "data": {
      "text/plain": [
       "3.75"
      ]
     },
     "execution_count": 54,
     "metadata": {},
     "output_type": "execute_result"
    }
   ],
   "source": [
    "meanme(4)"
   ]
  },
  {
   "cell_type": "code",
   "execution_count": 55,
   "id": "988ecd2d-ef45-44c7-bc7a-5c68b9d7847b",
   "metadata": {},
   "outputs": [],
   "source": [
    "#Question 4\n",
    "\"\"\"Write a function called ‘perform_hypothesis_test’ that takes two lists of numbers as\n",
    "input, representing two samples. The function should perform a two-sample t-test and\n",
    "return the p-value. Use the ‘scipy.stats’ module in Python to calculate the t-test and\n",
    "p-value.\"\"\"\n",
    "\n",
    "from scipy import stats\n",
    "def perform_hypothesis_test(sample1, sample2):\n",
    "    t_st, p_value = stats.ttest_ind(sample1, sample2)\n",
    "    return p_value"
   ]
  },
  {
   "cell_type": "code",
   "execution_count": 56,
   "id": "9bc6e007-4dfc-424c-834a-dd90022e3a01",
   "metadata": {},
   "outputs": [
    {
     "name": "stdout",
     "output_type": "stream",
     "text": [
      "P-value: 0.09434977284243756\n"
     ]
    }
   ],
   "source": [
    "sample1 = [5, 10, 15, 20, 25]\n",
    "sample2 = [10, 20, 30, 40, 50]\n",
    "p_value = perform_hypothesis_test(sample1, sample2)\n",
    "print(\"P-value:\", p_value)"
   ]
  },
  {
   "cell_type": "code",
   "execution_count": null,
   "id": "bae7453a-390d-4f5b-99e4-52a7e0633a4b",
   "metadata": {},
   "outputs": [],
   "source": []
  },
  {
   "cell_type": "code",
   "execution_count": null,
   "id": "57cf78a1-a8cd-4ab4-be17-49f545d035e5",
   "metadata": {},
   "outputs": [],
   "source": []
  },
  {
   "cell_type": "code",
   "execution_count": null,
   "id": "5d19f17c-a979-4ffe-8f4d-4e4b000dc3b7",
   "metadata": {},
   "outputs": [],
   "source": []
  }
 ],
 "metadata": {
  "kernelspec": {
   "display_name": "Python 3 (ipykernel)",
   "language": "python",
   "name": "python3"
  },
  "language_info": {
   "codemirror_mode": {
    "name": "ipython",
    "version": 3
   },
   "file_extension": ".py",
   "mimetype": "text/x-python",
   "name": "python",
   "nbconvert_exporter": "python",
   "pygments_lexer": "ipython3",
   "version": "3.10.8"
  }
 },
 "nbformat": 4,
 "nbformat_minor": 5
}
