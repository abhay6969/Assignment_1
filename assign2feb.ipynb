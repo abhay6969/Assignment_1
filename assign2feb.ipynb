{
 "cells": [
  {
   "cell_type": "code",
   "execution_count": 1,
   "id": "f4a26461-7855-4720-acb5-6663657a17ea",
   "metadata": {},
   "outputs": [
    {
     "name": "stdout",
     "output_type": "stream",
     "text": [
      "0\n",
      "1\n",
      "2\n",
      "3\n",
      "4\n"
     ]
    }
   ],
   "source": [
    "\"\"\"Answer 1 :\n",
    "A For loop should be used when we know the exact number of iterations whereas,\n",
    "While loop should be used when we don't know about the exact number of iterations\"\"\"\n",
    "\n",
    "for i in range(0,5):\n",
    "    print(i)"
   ]
  },
  {
   "cell_type": "code",
   "execution_count": 2,
   "id": "af09a38d-1bcf-469d-a579-b13eb97350d7",
   "metadata": {},
   "outputs": [
    {
     "name": "stdout",
     "output_type": "stream",
     "text": [
      "0\n",
      "1\n",
      "2\n",
      "3\n",
      "4\n",
      "5\n"
     ]
    }
   ],
   "source": [
    "i = 0\n",
    "while(i<6):\n",
    "    print(i)\n",
    "    i += 1"
   ]
  },
  {
   "cell_type": "code",
   "execution_count": 12,
   "id": "0799fa57-a20a-4ef9-88b3-a6ba8d6677b0",
   "metadata": {},
   "outputs": [
    {
     "name": "stdout",
     "output_type": "stream",
     "text": [
      "55\n"
     ]
    }
   ],
   "source": [
    "\"\"\"Answer 2:\"\"\"\n",
    "i = 0\n",
    "for x in range(0,11):\n",
    "    i = i+x\n",
    "print(i)"
   ]
  },
  {
   "cell_type": "code",
   "execution_count": 13,
   "id": "5ba104ba-ffbe-4d54-b969-984c862635a9",
   "metadata": {},
   "outputs": [
    {
     "name": "stdout",
     "output_type": "stream",
     "text": [
      "55\n"
     ]
    }
   ],
   "source": [
    "i= 0\n",
    "x = 0\n",
    "while(x<10):\n",
    "    x+= 1\n",
    "    i += x\n",
    "print(i)"
   ]
  },
  {
   "cell_type": "code",
   "execution_count": 14,
   "id": "1edf706e-844e-4178-8ce5-1a3879bf4bfb",
   "metadata": {},
   "outputs": [
    {
     "name": "stdin",
     "output_type": "stream",
     "text": [
      "Enter the number of units consumed:  6\n"
     ]
    },
    {
     "name": "stdout",
     "output_type": "stream",
     "text": [
      "Your electricity bill amount is Rs. 27.0\n"
     ]
    }
   ],
   "source": [
    "#Answer 3\n",
    "\n",
    "\n",
    "units = int(input(\"Enter the number of units consumed: \"))\n",
    "\n",
    "bill_amount = 0\n",
    "remaining_units = 0\n",
    "\n",
    "# Calculating bill for the first 100 units\n",
    "if units <= 100:\n",
    "    bill_amount = units * 4.5\n",
    "# Calculating bill for the next 100 units\n",
    "elif units <= 200:\n",
    "    bill_amount = 100 * 4.5 + (units - 100) * 6\n",
    "# Calculating bill for the next 100 units\n",
    "elif units <= 300:\n",
    "    bill_amount = 100 * 4.5 + 100 * 6 + (units - 200) * 10\n",
    "# Calculating bill for units above 300\n",
    "else:\n",
    "    remaining_units = units - 300\n",
    "    bill_amount = 100 * 4.5 + 100 * 6 + 100 * 10 + remaining_units * 20\n",
    "\n",
    "\n",
    "print(\"Your electricity bill amount is Rs.\", bill_amount)\n"
   ]
  },
  {
   "cell_type": "code",
   "execution_count": 17,
   "id": "f8e67a32-87be-4734-aa29-e77f906d3a75",
   "metadata": {},
   "outputs": [
    {
     "name": "stdout",
     "output_type": "stream",
     "text": [
      "[2, 4, 5, 6, 8, 10, 12, 14, 15, 16, 18, 20, 22, 24, 25, 26, 28, 30, 32, 34, 35, 36, 38, 40, 42, 44, 45, 46, 48, 50, 52, 54, 55, 56, 58, 60, 62, 64, 65, 66, 68, 70, 72, 74, 75, 76, 78, 80, 82, 84, 85, 86, 88, 90, 92, 94, 95, 96, 98, 100]\n"
     ]
    }
   ],
   "source": [
    "#Answer 4\n",
    "\n",
    "# Using for loop\n",
    "num_list = list(range(1, 101))  \n",
    "cube_list = [] \n",
    "\n",
    "for num in num_list:\n",
    "    cube = num ** 3  \n",
    "    if cube % 4 == 0 or cube % 5 == 0:  \n",
    "        cube_list.append(num)  \n",
    "\n",
    "print(cube_list)  "
   ]
  },
  {
   "cell_type": "code",
   "execution_count": 19,
   "id": "17a8c832-7dd8-4b07-b674-1b1717f10d4b",
   "metadata": {},
   "outputs": [
    {
     "name": "stdout",
     "output_type": "stream",
     "text": [
      "[2, 4, 5, 6, 8, 10, 12, 14, 15, 16, 18, 20, 22, 24, 25, 26, 28, 30, 32, 34, 35, 36, 38, 40, 42, 44, 45, 46, 48, 50, 52, 54, 55, 56, 58, 60, 62, 64, 65, 66, 68, 70, 72, 74, 75, 76, 78, 80, 82, 84, 85, 86, 88, 90, 92, 94, 95, 96, 98, 100]\n"
     ]
    }
   ],
   "source": [
    "#using while loop\n",
    "num_list = list(range(1, 101))  \n",
    "cube_list = [] \n",
    "i = 0  \n",
    "\n",
    "while i < len(num_list):\n",
    "    cube = num_list[i] ** 3  \n",
    "    if cube % 4 == 0 or cube % 5 == 0: \n",
    "        cube_list.append(num_list[i]) \n",
    "    i += 1  \n",
    "\n",
    "print(cube_list)  "
   ]
  },
  {
   "cell_type": "code",
   "execution_count": null,
   "id": "c8f10108-4ef5-4c1f-a241-040cd4ece705",
   "metadata": {},
   "outputs": [],
   "source": [
    "#Answer 5\n",
    "st = \"I want to become a data scientist\"  \n",
    "vowels = \"aeiouAEIOU\"  \n",
    "c = 0 \n",
    "\n",
    "for char in st:\n",
    "    if char in vowels:  \n",
    "        c += 1 \n",
    "\n",
    "print(\"The number of vowels in the given string is:\", c)  \n"
   ]
  }
 ],
 "metadata": {
  "kernelspec": {
   "display_name": "Python 3 (ipykernel)",
   "language": "python",
   "name": "python3"
  },
  "language_info": {
   "codemirror_mode": {
    "name": "ipython",
    "version": 3
   },
   "file_extension": ".py",
   "mimetype": "text/x-python",
   "name": "python",
   "nbconvert_exporter": "python",
   "pygments_lexer": "ipython3",
   "version": "3.10.8"
  }
 },
 "nbformat": 4,
 "nbformat_minor": 5
}
