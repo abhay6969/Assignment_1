{
 "cells": [
  {
   "cell_type": "code",
   "execution_count": 1,
   "id": "d41bbe2d-4ade-4892-8b7d-98204707d47f",
   "metadata": {},
   "outputs": [
    {
     
     "name": "stdin",
     "output_type": "stream",
     "text": [
      "Enter your Percentage 87\n"
     ]
    },
    {
     "name": "stdout",
     "output_type": "stream",
     "text": [
      "B\n"
     ]
    }
   ],
   "source": [
    "#Answer 1:\n",
    "a = int(input(\"Enter your Percentage\"))\n",
    "if a>=90:\n",
    "    print(\"A\")\n",
    "elif a<90 and a >= 80:\n",
    "    print(\"B\")\n",
    "elif a<80 and a >= 60:\n",
    "    print(\"C\")\n",
    "elif a<60:\n",
    "    print(\"D\")"
   ]
  },
  {
   "cell_type": "code",
   "execution_count": 2,
   "id": "90cf94af-7300-42c4-9b99-b2afc8bc27f8",
   "metadata": {},
   "outputs": [
    {
     "name": "stdin",
     "output_type": "stream",
     "text": [
      "Enter the amount 7894\n"
     ]
    },
    {
     "name": "stdout",
     "output_type": "stream",
     "text": [
      "394.7\n"
     ]
    }
   ],
   "source": [
    "#Answer 2:\n",
    "a = int(input(\"Enter the amount\"))\n",
    "if a>=100000:\n",
    "    tax = (a*15)/100\n",
    "    print(tax)\n",
    "elif a<100000 and a >= 50000:\n",
    "    tax = (a*10)/100\n",
    "    print(tax)\n",
    "elif a<=50000:\n",
    "    tax = (a*5)/100\n",
    "    print(tax)"
   ]
  },
  {
   "cell_type": "code",
   "execution_count": 8,
   "id": "e58aa289-d898-4982-9c67-e06593b6a11c",
   "metadata": {},
   "outputs": [
    {
     "name": "stdin",
     "output_type": "stream",
     "text": [
      "Enter the city delhi\n"
     ]
    },
    {
     "name": "stdout",
     "output_type": "stream",
     "text": [
      "Red Fort\n"
     ]
    }
   ],
   "source": [
    "#Answer 3:\n",
    "a = input(\"Enter the city\")\n",
    "if a.lower() == \"delhi\" :\n",
    "    print(\"Red Fort\")\n",
    "elif a.lower() == \"agra\" :\n",
    "    print(\"Taj Mahal\")\n",
    "elif a.lower() == \"jaipur\" :\n",
    "    print(\"Jal Mahal\")\n"
   ]
  },
  {
   "cell_type": "code",
   "execution_count": 4,
   "id": "c90efed3-561f-486c-9cd3-643a47edf861",
   "metadata": {},
   "outputs": [
    {
     "name": "stdin",
     "output_type": "stream",
     "text": [
      "Enter the number 567\n"
     ]
    },
    {
     "name": "stdout",
     "output_type": "stream",
     "text": [
      "4\n"
     ]
    }
   ],
   "source": [
    "#Answer 4:\n",
    "a= int(input(\"Enter the number\"))\n",
    "c = 0\n",
    "while(a > 10):\n",
    "    a = a/3\n",
    "    c = c+1\n",
    "print(c)"
   ]
  },
  {
   "cell_type": "code",
   "execution_count": 9,
   "id": "30effb07-74e1-410b-94a3-c6dc4c4c53d0",
   "metadata": {},
   "outputs": [
    {
     "name": "stdout",
     "output_type": "stream",
     "text": [
      "0\n",
      "1\n",
      "2\n",
      "3\n",
      "4\n",
      "5\n"
     ]
    }
   ],
   "source": [
    "\"\"\"Answer 5:\n",
    "While loop is used when even we ourself don't know how many times the loop is going to be executed. It's like when you ask your \n",
    "teacher a question, and they keep answering until you understand, and then they stop.\"\"\"\n",
    "a = 0\n",
    "while(a<6):\n",
    "    print(a)\n",
    "    a += 1"
   ]
  },
  {
   "cell_type": "code",
   "execution_count": 10,
   "id": "61d0e684-d58a-4bd3-a97b-ecd7b789fd4d",
   "metadata": {},
   "outputs": [
    {
     "name": "stdout",
     "output_type": "stream",
     "text": [
      "*\n",
      "**\n",
      "***\n",
      "****\n",
      "*****\n"
     ]
    }
   ],
   "source": [
    "#Answer 6:\n",
    "i = 1\n",
    "while i <= 5:\n",
    "    j = 1\n",
    "    while j <= i:\n",
    "        print('*', end='')\n",
    "        j += 1\n",
    "    print()\n",
    "    i += 1\n"
   ]
  },
  {
   "cell_type": "code",
   "execution_count": 11,
   "id": "d22872b2-60a9-4d38-a36f-e1bc91b13ef8",
   "metadata": {},
   "outputs": [
    {
     "name": "stdout",
     "output_type": "stream",
     "text": [
      "*\n",
      "*\n",
      "*\n",
      "*\n",
      "*\n"
     ]
    }
   ],
   "source": [
    "i = 1\n",
    "while i <= 5:\n",
    "    j = 1\n",
    "    while j <= 1:\n",
    "        print('*', end='')\n",
    "        j += 1\n",
    "    print()\n",
    "    i += 1"
   ]
  },
  {
   "cell_type": "code",
   "execution_count": 12,
   "id": "776cf037-165e-46e1-95b8-fa9b7dfb0550",
   "metadata": {},
   "outputs": [
    {
     "name": "stdin",
     "output_type": "stream",
     "text": [
      "Enter number of rows :  5\n"
     ]
    },
    {
     "name": "stdout",
     "output_type": "stream",
     "text": [
      "* * * * * \n",
      "* * * * \n",
      "* * * \n",
      "* * \n",
      "* \n"
     ]
    }
   ],
   "source": [
    "n = int(input('Enter number of rows : '))\n",
    " \n",
    "i = 1\n",
    "while i <= n :\n",
    "    j = n\n",
    "    while j >= i:\n",
    "        print(\"*\", end = \" \")\n",
    "        j -= 1\n",
    "    print()\n",
    "    i += 1\n"
   ]
  },
  {
   "cell_type": "code",
   "execution_count": 13,
   "id": "b5021a34-17b7-4ed1-8276-dd5f67a382e5",
   "metadata": {},
   "outputs": [
    {
     "name": "stdout",
     "output_type": "stream",
     "text": [
      "10\n",
      "9\n",
      "8\n",
      "7\n",
      "6\n",
      "5\n",
      "4\n",
      "3\n",
      "2\n",
      "1\n"
     ]
    }
   ],
   "source": [
    "#Answer 7:\n",
    "a = 10\n",
    "while(a!= 0):\n",
    "    print(a)\n",
    "    a -= 1"
   ]
  },
  {
   "cell_type": "code",
   "execution_count": null,
   "id": "2efecce2-3dd4-49bd-b7b6-58471b6d9d6b",
   "metadata": {},
   "outputs": [],
   "source": []
  }
 ],
 "metadata": {
  "kernelspec": {
   "display_name": "Python 3 (ipykernel)",
   "language": "python",
   "name": "python3"
  },
  "language_info": {
   "codemirror_mode": {
    "name": "ipython",
    "version": 3
   },
   "file_extension": ".py",
   "mimetype": "text/x-python",
   "name": "python",
   "nbconvert_exporter": "python",
   "pygments_lexer": "ipython3",
   "version": "3.10.8"
  }
 },
 "nbformat": 4,
 "nbformat_minor": 5
}
