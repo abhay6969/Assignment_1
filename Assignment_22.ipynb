{
 "cells": [
  {
   "cell_type": "code",
   "execution_count": 2,
   "id": "8120abaf-0c85-4123-ba16-f938677c8f8a",
   "metadata": {},
   "outputs": [],
   "source": [
    "import pandas as pd"
   ]
  },
  {
   "cell_type": "code",
   "execution_count": 3,
   "id": "88d18ad8-0fdd-49b6-bbe5-eba46022f5b6",
   "metadata": {},
   "outputs": [
    {
     "data": {
      "text/plain": [
       "pandas.core.series.Series"
      ]
     },
     "execution_count": 3,
     "metadata": {},
     "output_type": "execute_result"
    }
   ],
   "source": [
    "#Answer 1:\n",
    "a = pd.Series([4, 8, 15, 16, 23,42])\n",
    "type(a)"
   ]
  },
  {
   "cell_type": "code",
   "execution_count": 4,
   "id": "d04cb7f9-5aee-49d0-bb8f-fbf4c8db4420",
   "metadata": {},
   "outputs": [
    {
     "data": {
      "text/plain": [
       "Name    [Abhay, Aniket, Shobhit, Aditya, Abhishek, Ath...\n",
       "dtype: object"
      ]
     },
     "execution_count": 4,
     "metadata": {},
     "output_type": "execute_result"
    }
   ],
   "source": [
    "#Answer 2:\n",
    "index = [\"Name\"]\n",
    "data = [\"Abhay\",\"Aniket\",\"Shobhit\",\"Aditya\",\"Abhishek\",\"Atharv\",\"Shivanshu\",\"Sonu\",\"Abhijeet\",\"Shreya\"]\n",
    "\n",
    "b = pd.Series([data],index = index)\n",
    "b"
   ]
  },
  {
   "cell_type": "code",
   "execution_count": 10,
   "id": "00b3ec01-0d1e-4d96-aafe-f151d3b51bc8",
   "metadata": {},
   "outputs": [
    {
     "data": {
      "text/html": [
       "<div>\n",
       "<style scoped>\n",
       "    .dataframe tbody tr th:only-of-type {\n",
       "        vertical-align: middle;\n",
       "    }\n",
       "\n",
       "    .dataframe tbody tr th {\n",
       "        vertical-align: top;\n",
       "    }\n",
       "\n",
       "    .dataframe thead th {\n",
       "        text-align: right;\n",
       "    }\n",
       "</style>\n",
       "<table border=\"1\" class=\"dataframe\">\n",
       "  <thead>\n",
       "    <tr style=\"text-align: right;\">\n",
       "      <th></th>\n",
       "      <th>Name</th>\n",
       "      <th>Age</th>\n",
       "      <th>Gender</th>\n",
       "    </tr>\n",
       "  </thead>\n",
       "  <tbody>\n",
       "    <tr>\n",
       "      <th>0</th>\n",
       "      <td>Alice</td>\n",
       "      <td>20</td>\n",
       "      <td>Female</td>\n",
       "    </tr>\n",
       "    <tr>\n",
       "      <th>1</th>\n",
       "      <td>Bob</td>\n",
       "      <td>30</td>\n",
       "      <td>Male</td>\n",
       "    </tr>\n",
       "    <tr>\n",
       "      <th>2</th>\n",
       "      <td>Claire</td>\n",
       "      <td>27</td>\n",
       "      <td>Female</td>\n",
       "    </tr>\n",
       "  </tbody>\n",
       "</table>\n",
       "</div>"
      ],
      "text/plain": [
       "     Name  Age  Gender\n",
       "0   Alice   20  Female\n",
       "1     Bob   30    Male\n",
       "2  Claire   27  Female"
      ]
     },
     "execution_count": 10,
     "metadata": {},
     "output_type": "execute_result"
    }
   ],
   "source": [
    "#Answer 3:\n",
    "i = {\"Name\" : [\"Alice\",\"Bob\",\"Claire\"],\"Age\" : [20,30,27],\"Gender\" : [\"Female\",\"Male\",\"Female\"]}\n",
    "df = pd.DataFrame(i)\n",
    "df"
   ]
  },
  {
   "cell_type": "code",
   "execution_count": 12,
   "id": "1b36f3af-45bb-42ae-bc87-6812aedab418",
   "metadata": {},
   "outputs": [
    {
     "data": {
      "text/html": [
       "<div>\n",
       "<style scoped>\n",
       "    .dataframe tbody tr th:only-of-type {\n",
       "        vertical-align: middle;\n",
       "    }\n",
       "\n",
       "    .dataframe tbody tr th {\n",
       "        vertical-align: top;\n",
       "    }\n",
       "\n",
       "    .dataframe thead th {\n",
       "        text-align: right;\n",
       "    }\n",
       "</style>\n",
       "<table border=\"1\" class=\"dataframe\">\n",
       "  <thead>\n",
       "    <tr style=\"text-align: right;\">\n",
       "      <th></th>\n",
       "      <th>Name</th>\n",
       "      <th>Roll No</th>\n",
       "    </tr>\n",
       "  </thead>\n",
       "  <tbody>\n",
       "    <tr>\n",
       "      <th>0</th>\n",
       "      <td>Abhay</td>\n",
       "      <td>1</td>\n",
       "    </tr>\n",
       "    <tr>\n",
       "      <th>1</th>\n",
       "      <td>Aniket</td>\n",
       "      <td>2</td>\n",
       "    </tr>\n",
       "  </tbody>\n",
       "</table>\n",
       "</div>"
      ],
      "text/plain": [
       "     Name  Roll No\n",
       "0   Abhay        1\n",
       "1  Aniket        2"
      ]
     },
     "execution_count": 12,
     "metadata": {},
     "output_type": "execute_result"
    }
   ],
   "source": [
    "\"\"\"Answer 4: \n",
    "Dataframe is a Two-dimensional table like structure which is used to store and access data.\n",
    "A Series is a one dimensional structure which can store only one type of data.\n",
    "A dataframe can be built using multiple series with a common index.\n",
    "\"\"\"\n",
    "a = [\"Abhay\",\"Aniket\"]\n",
    "b = [1,2]\n",
    "a1 = pd.Series(a)\n",
    "b1 = pd.Series(b)\n",
    "c = {\"Name\":a1,\"Roll No\":b1}\n",
    "d = pd.DataFrame(c)\n",
    "d"
   ]
  },
  {
   "cell_type": "code",
   "execution_count": 17,
   "id": "3fe10782-3641-4de2-9f95-af0aed9e9727",
   "metadata": {},
   "outputs": [
    {
     "data": {
      "text/plain": [
       "(pandas.core.frame.DataFrame,\n",
       " Name      object\n",
       " Age        int64\n",
       " Gender    object\n",
       " dtype: object)"
      ]
     },
     "execution_count": 17,
     "metadata": {},
     "output_type": "execute_result"
    }
   ],
   "source": [
    "\"\"\"Answer 5: \n",
    "Some of the Common Function for manipulating data using Pandas are:\n",
    "1. head()- Used for printing first 5 values of the dataframe\n",
    "2. tail() - Used for printing last 5 values of the dataframe\n",
    "3. type() - Used for printing the type of a variable\n",
    "4. dtypes - Used for displaying the data type of the columns\"\"\"\n",
    "i = {\"Name\" : [\"Alice\",\"Bob\",\"Claire\"],\"Age\" : [20,30,27],\"Gender\" : [\"Female\",\"Male\",\"Female\"]}\n",
    "df = pd.DataFrame(i)\n",
    "type(df),df.dtypes"
   ]
  },
  {
   "cell_type": "code",
   "execution_count": 19,
   "id": "1f3f98a3-df78-42a6-a603-70ebf84f3d57",
   "metadata": {},
   "outputs": [
    {
     "data": {
      "text/plain": [
       "(     Name  Age  Gender\n",
       " 0   Alice   20  Female\n",
       " 1     Bob   30    Male\n",
       " 2  Claire   27  Female,\n",
       " <bound method NDFrame.tail of      Name  Age  Gender\n",
       " 0   Alice   20  Female\n",
       " 1     Bob   30    Male\n",
       " 2  Claire   27  Female>)"
      ]
     },
     "execution_count": 19,
     "metadata": {},
     "output_type": "execute_result"
    }
   ],
   "source": [
    "df.head(),df.tail"
   ]
  },
  {
   "cell_type": "code",
   "execution_count": null,
   "id": "462a75f6-9bc5-4099-a636-6af17a211224",
   "metadata": {},
   "outputs": [],
   "source": [
    "\"\"\"Answer 6:\n",
    "Series and Dataframes are mutable in nature and their values can be changed whereas\n",
    "Pannel are immutable in nature\n",
    "\"\"\""
   ]
  },
  {
   "cell_type": "code",
   "execution_count": 20,
   "id": "9a238185-2086-4ff4-bf6c-137fbfea2856",
   "metadata": {},
   "outputs": [
    {
     "data": {
      "text/html": [
       "<div>\n",
       "<style scoped>\n",
       "    .dataframe tbody tr th:only-of-type {\n",
       "        vertical-align: middle;\n",
       "    }\n",
       "\n",
       "    .dataframe tbody tr th {\n",
       "        vertical-align: top;\n",
       "    }\n",
       "\n",
       "    .dataframe thead th {\n",
       "        text-align: right;\n",
       "    }\n",
       "</style>\n",
       "<table border=\"1\" class=\"dataframe\">\n",
       "  <thead>\n",
       "    <tr style=\"text-align: right;\">\n",
       "      <th></th>\n",
       "      <th>Name</th>\n",
       "      <th>Roll No</th>\n",
       "    </tr>\n",
       "  </thead>\n",
       "  <tbody>\n",
       "    <tr>\n",
       "      <th>0</th>\n",
       "      <td>Abhay</td>\n",
       "      <td>1</td>\n",
       "    </tr>\n",
       "    <tr>\n",
       "      <th>1</th>\n",
       "      <td>Aniket</td>\n",
       "      <td>2</td>\n",
       "    </tr>\n",
       "    <tr>\n",
       "      <th>2</th>\n",
       "      <td>Shobhit</td>\n",
       "      <td>3</td>\n",
       "    </tr>\n",
       "    <tr>\n",
       "      <th>3</th>\n",
       "      <td>Shivanshu</td>\n",
       "      <td>4</td>\n",
       "    </tr>\n",
       "    <tr>\n",
       "      <th>4</th>\n",
       "      <td>Abhijeet</td>\n",
       "      <td>5</td>\n",
       "    </tr>\n",
       "  </tbody>\n",
       "</table>\n",
       "</div>"
      ],
      "text/plain": [
       "        Name  Roll No\n",
       "0      Abhay        1\n",
       "1     Aniket        2\n",
       "2    Shobhit        3\n",
       "3  Shivanshu        4\n",
       "4   Abhijeet        5"
      ]
     },
     "execution_count": 20,
     "metadata": {},
     "output_type": "execute_result"
    }
   ],
   "source": [
    "#Answer 7:\n",
    "a = [\"Abhay\",\"Aniket\",\"Shobhit\",\"Shivanshu\",\"Abhijeet\"]\n",
    "b = [1,2,3,4,5]\n",
    "a1 = pd.Series(a)\n",
    "b1 = pd.Series(b)\n",
    "c = {\"Name\":a1,\"Roll No\":b1}\n",
    "d = pd.DataFrame(c)\n",
    "d"
   ]
  },
  {
   "cell_type": "code",
   "execution_count": null,
   "id": "08b9be5a-9cdf-48f6-82f9-aacf99f0cf9c",
   "metadata": {},
   "outputs": [],
   "source": []
  }
 ],
 "metadata": {
  "kernelspec": {
   "display_name": "Python 3 (ipykernel)",
   "language": "python",
   "name": "python3"
  },
  "language_info": {
   "codemirror_mode": {
    "name": "ipython",
    "version": 3
   },
   "file_extension": ".py",
   "mimetype": "text/x-python",
   "name": "python",
   "nbconvert_exporter": "python",
   "pygments_lexer": "ipython3",
   "version": "3.10.8"
  }
 },
 "nbformat": 4,
 "nbformat_minor": 5
}
