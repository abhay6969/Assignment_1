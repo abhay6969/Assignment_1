{
 "cells": [
  {
   "cell_type": "code",
   "execution_count": null,
   "id": "cab213ed-24d5-4948-ad25-72d9f409f135",
   "metadata": {},
   "outputs": [],
   "source": [
    "\"\"\"Answer 1 :\n",
    "Exception is a condition which a program catches during execution which it can't cope up with. It is a \n",
    "type of error. The Difference between an Exception and Syntax Error is that the Exception can be of any type \n",
    "including the syntax error but a syntax error is a specific type of exception which occcurs when their is\n",
    "problem with the Syntax of the Program.   \"\"\""
   ]
  },
  {
   "cell_type": "code",
   "execution_count": 1,
   "id": "ffa77213-03a9-4c24-a810-dc2116cd8127",
   "metadata": {},
   "outputs": [
    {
     "ename": "ZeroDivisionError",
     "evalue": "division by zero",
     "output_type": "error",
     "traceback": [
      "\u001b[0;31m---------------------------------------------------------------------------\u001b[0m",
      "\u001b[0;31mZeroDivisionError\u001b[0m                         Traceback (most recent call last)",
      "Cell \u001b[0;32mIn[1], line 7\u001b[0m\n\u001b[1;32m      1\u001b[0m \u001b[38;5;124;03m\"\"\"Answer 2: \u001b[39;00m\n\u001b[1;32m      2\u001b[0m \u001b[38;5;124;03mWhen an Exception is not handeled Properly it Throws an error and stops the execution of the Program \u001b[39;00m\n\u001b[1;32m      3\u001b[0m \u001b[38;5;124;03mimmediately so it is important to catch all the exception which may appear in your program and throw a Proper\u001b[39;00m\n\u001b[1;32m      4\u001b[0m \u001b[38;5;124;03mresponse for it without disrupting the Code flow\u001b[39;00m\n\u001b[1;32m      5\u001b[0m \u001b[38;5;124;03mexample : when any integer is divided by zero it gives us Infinite but we can't display a value like infinte\u001b[39;00m\n\u001b[1;32m      6\u001b[0m \u001b[38;5;124;03min our so in such condition we need to through an exception or else an error might appear\"\"\"\u001b[39;00m\n\u001b[0;32m----> 7\u001b[0m a \u001b[38;5;241m=\u001b[39m \u001b[38;5;241;43m10\u001b[39;49m\u001b[38;5;241;43m/\u001b[39;49m\u001b[38;5;241;43m0\u001b[39;49m\n",
      "\u001b[0;31mZeroDivisionError\u001b[0m: division by zero"
     ]
    }
   ],
   "source": [
    "\"\"\"Answer 2: \n",
    "When an Exception is not handeled Properly it Throws an error and stops the execution of the Program \n",
    "immediately so it is important to catch all the exception which may appear in your program and throw a Proper\n",
    "response for it without disrupting the Code flow\n",
    "example : when any integer is divided by zero it gives us Infinite but we can't display a value like infinte\n",
    "in our so in such condition we need to through an exception or else an error might appear\"\"\"\n",
    "a = 10/0"
   ]
  },
  {
   "cell_type": "code",
   "execution_count": 5,
   "id": "c4399d6d-6b2d-490e-8935-a9c2badc85dd",
   "metadata": {},
   "outputs": [
    {
     "name": "stdout",
     "output_type": "stream",
     "text": [
      "No can't be divided by zero division by zero\n"
     ]
    }
   ],
   "source": [
    "\"\"\"Answer 3: \n",
    "except statement is used to catch an exception and give an appropriate response for that exception.When an \n",
    "error during theexecution of the try block then except block catches it identifies the type of exception and \n",
    "handles it .\"\"\"\n",
    "try:\n",
    "    a = 10/0\n",
    "except ZeroDivisionError as e:\n",
    "    print(\"No can't be divided by zero\",e)"
   ]
  },
  {
   "cell_type": "code",
   "execution_count": null,
   "id": "3880842b-2433-44ed-b857-9858165157ff",
   "metadata": {},
   "outputs": [],
   "source": [
    "\"\"\"Answer 4:\n",
    "try: The code which might give an exception is written inside this block.\n",
    "else: This block is executed when no error is raised from the try block.\n",
    "finally: For this blockIt doesn't matter whether the try block gets executed or not as this block\n",
    "is always executed .\n",
    "raise: This block can be used to raise user-defined exception. we can define what type of exception to\n",
    "throw and the text to print with it\"\"\""
   ]
  },
  {
   "cell_type": "code",
   "execution_count": 7,
   "id": "2825f2da-7f1a-4085-9292-72bb6a642eda",
   "metadata": {},
   "outputs": [
    {
     "name": "stdout",
     "output_type": "stream",
     "text": [
      "Execution Done\n",
      "Program Finished\n"
     ]
    },
    {
     "ename": "Exception",
     "evalue": "Value can't be greater than 7",
     "output_type": "error",
     "traceback": [
      "\u001b[0;31m---------------------------------------------------------------------------\u001b[0m",
      "\u001b[0;31mException\u001b[0m                                 Traceback (most recent call last)",
      "Cell \u001b[0;32mIn[7], line 10\u001b[0m\n\u001b[1;32m      8\u001b[0m     \u001b[38;5;28mprint\u001b[39m(\u001b[38;5;124m\"\u001b[39m\u001b[38;5;124mProgram Finished\u001b[39m\u001b[38;5;124m\"\u001b[39m)\n\u001b[1;32m      9\u001b[0m \u001b[38;5;28;01mif\u001b[39;00m a \u001b[38;5;241m>\u001b[39m\u001b[38;5;241m8\u001b[39m:\n\u001b[0;32m---> 10\u001b[0m     \u001b[38;5;28;01mraise\u001b[39;00m \u001b[38;5;167;01mException\u001b[39;00m(\u001b[38;5;124m\"\u001b[39m\u001b[38;5;124mValue can\u001b[39m\u001b[38;5;124m'\u001b[39m\u001b[38;5;124mt be greater than 7\u001b[39m\u001b[38;5;124m\"\u001b[39m)\n",
      "\u001b[0;31mException\u001b[0m: Value can't be greater than 7"
     ]
    }
   ],
   "source": [
    "try:\n",
    "    a = 4+7\n",
    "except Exception as e:\n",
    "    print(e)\n",
    "else:\n",
    "    print(\"Execution Done\")\n",
    "finally:\n",
    "    print(\"Program Finished\")\n",
    "if a >8:\n",
    "    raise Exception(\"Value can't be greater than 7\")"
   ]
  },
  {
   "cell_type": "code",
   "execution_count": 11,
   "id": "0937ca14-7d6d-492a-b48a-f240e8a706a8",
   "metadata": {},
   "outputs": [
    {
     "name": "stdout",
     "output_type": "stream",
     "text": [
      "MY ERROR\n"
     ]
    }
   ],
   "source": [
    "\"\"\"Anwer 5: \n",
    "Python allows us to create Custom exception or user defined exception which are defined by us according \n",
    "to our needs. We need custom Exception so that we can raise exception according to our Program conditions and \n",
    "state.\"\"\"\n",
    "class hello(Exception):\n",
    "    pass\n",
    "class hello1(hello):\n",
    "    def __init__(self):\n",
    "        super().__init__(\"MY ERROR\")\n",
    "try: \n",
    "    a = 90\n",
    "    if a >80:\n",
    "        raise hello1\n",
    "except Exception as e:\n",
    "    print(e)\n",
    "        "
   ]
  },
  {
   "cell_type": "code",
   "execution_count": 14,
   "id": "238c9be2-2a84-4e00-bb56-5fd1056f0f5c",
   "metadata": {},
   "outputs": [
    {
     "name": "stdin",
     "output_type": "stream",
     "text": [
      "Enter your Percentage 102\n"
     ]
    },
    {
     "name": "stdout",
     "output_type": "stream",
     "text": [
      "INVALID PERCENTAGE\n"
     ]
    }
   ],
   "source": [
    "#Answer 6 : \n",
    "class percentage(Exception):\n",
    "    def __init__(self,msg):\n",
    "        self.msg = msg\n",
    "\n",
    "def checkpercentage(a):\n",
    "    if a >100:\n",
    "        raise percentage(\"INVALID PERCENTAGE\")\n",
    "    elif a < 40:\n",
    "        raise percentaeg(\"You Didn't Pass\")\n",
    "    else:\n",
    "        print(\"You Passed\")\n",
    "try :\n",
    "    a = int(input(\"Enter your Percentage\"))\n",
    "    checkpercentage(a)\n",
    "except Exception as e:\n",
    "    print(e)"
   ]
  },
  {
   "cell_type": "code",
   "execution_count": null,
   "id": "3d6109bf-36b1-4c71-9da2-0727170ee34d",
   "metadata": {},
   "outputs": [],
   "source": []
  }
 ],
 "metadata": {
  "kernelspec": {
   "display_name": "Python 3 (ipykernel)",
   "language": "python",
   "name": "python3"
  },
  "language_info": {
   "codemirror_mode": {
    "name": "ipython",
    "version": 3
   },
   "file_extension": ".py",
   "mimetype": "text/x-python",
   "name": "python",
   "nbconvert_exporter": "python",
   "pygments_lexer": "ipython3",
   "version": "3.10.8"
  }
 },
 "nbformat": 4,
 "nbformat_minor": 5
}
