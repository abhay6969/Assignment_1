{
 "cells": [
  {
   "cell_type": "code",
   "execution_count": 4,
   "id": "69317292-181a-4865-9802-428f67ff5e98",
   "metadata": {},
   "outputs": [
    {
     "data": {
      "text/plain": [
       "('nano', 90, 20)"
      ]
     },
     "execution_count": 4,
     "metadata": {},
     "output_type": "execute_result"
    }
   ],
   "source": [
    "\"\"\"Answer 1 :\"\"\"\n",
    "class vehicle:\n",
    "    def __init__(self,name,speed,average):\n",
    "        self.name_of_vehicle = name\n",
    "        self.speed_of_vehicle = speed\n",
    "        self.average_of_vehicle = average\n",
    "        \n",
    "    def get_info(self):\n",
    "        return self.name_of_vehicle,self.speed_of_vehicle,self.average_of_vehicle\n",
    "\n",
    "v = vehicle(\"nano\",90,20)\n",
    "v.get_info()"
   ]
  },
  {
   "cell_type": "code",
   "execution_count": 13,
   "id": "680d4155-fac1-4e98-8fb1-2777f2cd7686",
   "metadata": {},
   "outputs": [
    {
     "data": {
      "text/plain": [
       "[('Alto', 90, 15), 4]"
      ]
     },
     "execution_count": 13,
     "metadata": {},
     "output_type": "execute_result"
    }
   ],
   "source": [
    "\"\"\"Answer 2 :\"\"\"\n",
    "class car(vehicle):\n",
    "    def seating_capacity(self,capacity):\n",
    "        car.capacity = classmethod(capacity)\n",
    "        car.capacity = capacity\n",
    "        return [self.get_info(),car.capacity]\n",
    "a = car(\"Alto\",90,15)\n",
    "a.seating_capacity(4)"
   ]
  },
  {
   "cell_type": "code",
   "execution_count": 23,
   "id": "ffaaa060-a920-4c6e-8988-0a476769b283",
   "metadata": {},
   "outputs": [
    {
     "name": "stdout",
     "output_type": "stream",
     "text": [
      "First Class\n"
     ]
    }
   ],
   "source": [
    "\"\"\"Answer 3: Multiple Inheritance is used to Inherit Properties of multiple or two different classes in a Class\"\"\"\n",
    "class a:\n",
    "    def show():\n",
    "        print(\"First Class\")\n",
    "class b:\n",
    "    def show():\n",
    "        print(\"Second Class\")\n",
    "class c(a,b):\n",
    "    pass\n",
    "\n",
    "a = c\n",
    "a.show()"
   ]
  },
  {
   "cell_type": "code",
   "execution_count": 47,
   "id": "39f2f162-8763-4dac-a4c0-cbcc65340755",
   "metadata": {},
   "outputs": [
    {
     "data": {
      "text/plain": [
       "'Abhay'"
      ]
     },
     "execution_count": 47,
     "metadata": {},
     "output_type": "execute_result"
    }
   ],
   "source": [
    "\"\"\"Answer 4: Getter and Setter are Property Decorators which are defined by the Programmer for the User , so that \n",
    "they can access Private Members of the class\"\"\"\n",
    "\n",
    "class student:\n",
    "    def __init__(self,name,dob):\n",
    "        self.name = name\n",
    "        #Private Variable\n",
    "        self.__DOB = dob\n",
    "        \n",
    "    @property\n",
    "    def get_dob(self):\n",
    "        return self.__DOB\n",
    "    \n",
    "   # @get_dob.setter\n",
    "    def set_dob(self,date):\n",
    "        self.__DOB =date\n",
    "\n",
    "st = student(\"Abhay\",\"10/02/2003\")\n",
    "st.name        "
   ]
  },
  {
   "cell_type": "code",
   "execution_count": 48,
   "id": "199b931b-dc3e-494b-b401-a702c9439520",
   "metadata": {},
   "outputs": [
    {
     "data": {
      "text/plain": [
       "'10/02/2003'"
      ]
     },
     "execution_count": 48,
     "metadata": {},
     "output_type": "execute_result"
    }
   ],
   "source": [
    "st._student__DOB"
   ]
  },
  {
   "cell_type": "code",
   "execution_count": 49,
   "id": "1b51852d-e770-43c5-888d-7a4b2876b1c7",
   "metadata": {},
   "outputs": [
    {
     "data": {
      "text/plain": [
       "'10/02/2003'"
      ]
     },
     "execution_count": 49,
     "metadata": {},
     "output_type": "execute_result"
    }
   ],
   "source": [
    "st.get_dob"
   ]
  },
  {
   "cell_type": "code",
   "execution_count": 50,
   "id": "46dd91e6-c3f6-4202-83fc-36cc9e8361ec",
   "metadata": {},
   "outputs": [],
   "source": [
    "st.set_dob(\"08/08/2004\")"
   ]
  },
  {
   "cell_type": "code",
   "execution_count": 51,
   "id": "454d780f-1c63-41ac-b790-d99e98cec9a4",
   "metadata": {},
   "outputs": [
    {
     "data": {
      "text/plain": [
       "'08/08/2004'"
      ]
     },
     "execution_count": 51,
     "metadata": {},
     "output_type": "execute_result"
    }
   ],
   "source": [
    "st.get_dob"
   ]
  },
  {
   "cell_type": "code",
   "execution_count": 86,
   "id": "5e397fb2-c197-4945-88a5-d6da3b009018",
   "metadata": {},
   "outputs": [],
   "source": [
    "\"\"\"Answer 5: Method Overriding is done when the child class provides a specific implementation of a \n",
    "method already defined by the Parent Class. Method Overriding happens when the child class has same\n",
    "method as that of the Parent class. \"\"\"\n",
    "class a:\n",
    "    def show(self):\n",
    "        print(\"Parent\")\n",
    "        \n",
    "class b(a):\n",
    "    def show(self):\n",
    "        super().show()\n",
    "        print(\"child\")\n",
    "        "
   ]
  },
  {
   "cell_type": "code",
   "execution_count": 87,
   "id": "a7be3454-e71a-4755-9437-b3c51ead9602",
   "metadata": {},
   "outputs": [
    {
     "name": "stdout",
     "output_type": "stream",
     "text": [
      "Parent\n",
      "child\n"
     ]
    }
   ],
   "source": [
    "h = b()\n",
    "h.show()"
   ]
  },
  {
   "cell_type": "code",
   "execution_count": null,
   "id": "1164b692-7666-4170-9b27-5a2a1e635d91",
   "metadata": {},
   "outputs": [],
   "source": []
  },
  {
   "cell_type": "code",
   "execution_count": null,
   "id": "167774b0-f75f-4f33-aa8e-4748b1c7f709",
   "metadata": {},
   "outputs": [],
   "source": []
  },
  {
   "cell_type": "code",
   "execution_count": null,
   "id": "ce41c615-d1b5-41c1-b528-5e0044007adc",
   "metadata": {},
   "outputs": [],
   "source": []
  }
 ],
 "metadata": {
  "kernelspec": {
   "display_name": "Python 3 (ipykernel)",
   "language": "python",
   "name": "python3"
  },
  "language_info": {
   "codemirror_mode": {
    "name": "ipython",
    "version": 3
   },
   "file_extension": ".py",
   "mimetype": "text/x-python",
   "name": "python",
   "nbconvert_exporter": "python",
   "pygments_lexer": "ipython3",
   "version": "3.10.8"
  }
 },
 "nbformat": 4,
 "nbformat_minor": 5
}
