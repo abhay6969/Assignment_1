{
 "cells": [
  {
   "cell_type": "code",
   "execution_count": null,
   "id": "049ac3be-9ab3-4f3b-97bb-a254ea558e23",
   "metadata": {},
   "outputs": [],
   "source": [
    "\"\"\"Answer 1:\n",
    "1. Oerfitting:- This situation occurs when the ML model accuracy is high in the Train dataset and\n",
    "accuracy is low in the Test Dataset. Overfitting is a common problem in machine learning where a \n",
    "model learns the training data too well, resulting in poor generalization to new, unseen data.\n",
    "To mitigate overfitting, a common approach is to use regularization techniques such as L1 or L2 \n",
    "regularization or Early Stopping.\n",
    "\n",
    "2. Underfitting:- This situation occurs when the ML model accuracy is Low in the Train dataset as \n",
    "well as in the Test Dataset.\n",
    "To mitigate underfitting, a common approach is to use more complex models with more features.\n",
    "\n",
    "The consequences of overfitting and underfitting are: overfitting leads to a model that performs\n",
    "well on training data but poorly on new data, while underfitting leads to a model that performs\n",
    "poorly on both training and new data. In either case, the model will not be useful for making\n",
    "accurate predictions on new, unseen data. \n",
    "\"\"\""
   ]
  },
  {
   "cell_type": "code",
   "execution_count": null,
   "id": "86eddfe9-db78-474d-800a-2c471ff98eb8",
   "metadata": {},
   "outputs": [],
   "source": [
    "\"\"\"Answer 2:\n",
    "Here are some common techniques to reduce overfitting:\n",
    "\n",
    "1. Early Stopping: Early stopping is a technique where the training process is stopped early \n",
    "once the performance on a validation set stops improving.\n",
    "\n",
    "2. Dropout: Dropout is a regularization technique where neurons are randomly dropped during \n",
    "training, which helps to prevent the model from over-relying on any particular feature or set \n",
    "of features.\n",
    "\n",
    "3. Cross-Validation: Cross-validation is a technique where the dataset is split into multiple\n",
    "training and validation sets, with each subset used for both training and validation.\n",
    "\"\"\""
   ]
  },
  {
   "cell_type": "code",
   "execution_count": null,
   "id": "58a9c81a-b002-4fc6-9231-284814afc170",
   "metadata": {},
   "outputs": [],
   "source": [
    "\"\"\"Answer 3:\n",
    "Underfitting is a common problem in machine learning where a model is too simple and fails to \n",
    "capture the underlying patterns in the data, resulting in poor performance on both the training\n",
    "and test data.\n",
    "\n",
    "Underfitting can occur in several scenarios in machine learning, including:\n",
    "1. Insufficient Data: When there is not enough data available to train a complex model, the model\n",
    "may not be able to capture the underlying patterns in the data.\n",
    "2. Insufficient Model Complexity: If the model is too simple, it may not be able to capture the\n",
    "underlying patterns in the data. \n",
    "3. Inappropriate Choice of Algorithm: Choosing an inappropriate machine learning algorithm for \n",
    "the task at hand can result in underfitting.\n",
    "\"\"\""
   ]
  },
  {
   "cell_type": "code",
   "execution_count": null,
   "id": "541e6fb9-a4d5-4664-ae07-40d9a9cd31c9",
   "metadata": {},
   "outputs": [],
   "source": [
    "\"\"\"Answer 4:\n",
    "The bias-variance tradeoff describes the relationship between bias and variance and how they\n",
    "affect the model's performance. The optimal model achieves a balance between bias and variance,\n",
    "resulting in good performance on both the training and test data.\n",
    "Bias: Bias is the difference between the true values and the predicted values of the model.\n",
    "High bias models tend to underfit the data and have poor performance on both the training and\n",
    "test data.\n",
    "Varience: Variance, on the other hand, is the variability of the model predictions for different\n",
    "training sets. A model with high variance is one that is too complex and overfits the training \n",
    "data. \"\"\""
   ]
  },
  {
   "cell_type": "code",
   "execution_count": null,
   "id": "8b2de257-f4cd-4904-8cfe-58e48313e86e",
   "metadata": {},
   "outputs": [],
   "source": [
    "\"\"\"Answer 5:\n",
    "T1. raining and Validation Curves: Plotting the training and validation curves can help identify \n",
    "overfittingand underfitting.\n",
    "\n",
    "2. Cross-Validation: Evaluate the model on multiple subsets of the data to determine if it is\n",
    "overfitting.\n",
    "\n",
    "3. Regularization Techniques: Use techniques such as L1, L2, and dropout to prevent overfitting.\n",
    "\n",
    "4. Early Stopping: Stop training before the maximum number of epochs to prevent overfitting.\n",
    "\n",
    "5. Evaluate on Test Set: Evaluate the model on a separate test set to determine if it is well-fit.\n",
    "\n",
    "\n",
    "\"\"\""
   ]
  },
  {
   "cell_type": "code",
   "execution_count": null,
   "id": "6a501176-8fa4-4025-87b2-e80a1e3b6e3c",
   "metadata": {},
   "outputs": [],
   "source": [
    "\"\"\"Answer 6:\n",
    "Bias refers to the error caused by the assumptions made by a model to simplify the learning process.\n",
    "High bias means that the model is not complex enough to capture the patterns in the data and tends \n",
    "to underfit the training set, leading to high training and test error.\n",
    "\n",
    "High Bias Example:\n",
    "Suppose you want to predict the price of a house based on its size and you fit a \n",
    "model to the data. However, you only use the size of the house as the input feature\n",
    ", and you assume a linear relationship between the size and price. In reality, the price of a house\n",
    "depends on many other factors like location, bedrooms, and age of the house. This model is\n",
    "too simplistic and ignores these other factors, leading to high bias. As a result, the model may \n",
    "have high training and test error.\n",
    "\n",
    "Variance refers to the error caused by the sensitivity of the model to small fluctuations in the \n",
    "training data. High variance means that the model is too complex and fits the noise in the data, \n",
    "leading to overfitting the training set and high training error, but poor performanceon the test set.\n",
    "\n",
    "High Variance Example:\n",
    "Suppose you have a dataset of a persons images with glasses on and you want to classify whether the\n",
    "images shown are of him or not. You train a deep neural network with many layers and parameters on \n",
    "a large dataset,but the model overfits to the training data and does not generalize well to new,\n",
    "unseen images.\n",
    "\"\"\""
   ]
  },
  {
   "cell_type": "code",
   "execution_count": null,
   "id": "291b8478-d628-4cca-8b5b-b53b57c2b4d0",
   "metadata": {},
   "outputs": [],
   "source": [
    "\"\"\"Answer 7:\n",
    "Regularization is a technique used in machine learning to prevent overfitting, which occurs when a \n",
    "model is too complex and fits the training data too closely, resulting in poor generalization\n",
    "performance on new, unseen data.\n",
    "\n",
    "The basic idea behind regularization is to add a penalty term to the objective function of the model\n",
    "that discourages large weights and biases. By doing so, the model is encouraged to find a simpler \n",
    "solution that generalizes well to new data.\n",
    "\n",
    "Some common regularization techniques:\n",
    "1. Dropout regularization: Dropout regularization is a technique used in neural networks where a random \n",
    "subset of the neurons in each layer is deactivated during training. This forces the network to learn\n",
    "more robust and generalizable features, as it cannot rely on any one set of neurons.\n",
    "\n",
    "2. Early stopping: Early stopping is a technique where the training of the model is stopped when the\n",
    "performance on a validation set stops improving. This prevents the model from overfitting by \n",
    "preventing it from continuing to train after it has already achieved the best possible performance \n",
    "on the validation set.\"\"\""
   ]
  }
 ],
 "metadata": {
  "kernelspec": {
   "display_name": "Python 3 (ipykernel)",
   "language": "python",
   "name": "python3"
  },
  "language_info": {
   "codemirror_mode": {
    "name": "ipython",
    "version": 3
   },
   "file_extension": ".py",
   "mimetype": "text/x-python",
   "name": "python",
   "nbconvert_exporter": "python",
   "pygments_lexer": "ipython3",
   "version": "3.10.8"
  }
 },
 "nbformat": 4,
 "nbformat_minor": 5
}
