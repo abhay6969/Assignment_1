{
 "cells": [
  {
   "cell_type": "code",
   "execution_count": 2,
   "id": "b6e0c4fc-d604-48f7-abc8-1d6ca57d352e",
   "metadata": {},
   "outputs": [
    {
     "name": "stdout",
     "output_type": "stream",
     "text": [
      "This is my car\n"
     ]
    }
   ],
   "source": [
    "\"\"\"Answer 1: A Class is like a Blueprint for creating Objects. A Class creates a series of data members\n",
    "and member fuctions when it is defined and those members can be used when the class is instantiated.\n",
    "An Object is an instance of a Class. A Class is an Idea whereas object is the implemenation of that class\n",
    "with actual values.\"\"\"\n",
    "class car: # A CLass\n",
    "    def car(self):# Member Function\n",
    "        print(\"This is my car\")\n",
    "audi = car() # It's Object\n",
    "audi.car()"
   ]
  },
  {
   "cell_type": "code",
   "execution_count": null,
   "id": "383cacac-1af7-4d3e-a50e-85ca292c65ad",
   "metadata": {},
   "outputs": [],
   "source": [
    "\"\"\"Answer 2: The Four Pillars of the OOPs in python are :\n",
    "* Inheritance\n",
    "* Polymorphism\n",
    "* Encapsulation\n",
    "* Abstraction\n",
    "\"\"\""
   ]
  },
  {
   "cell_type": "code",
   "execution_count": 6,
   "id": "c529b0df-51b8-4e4c-b363-bd038f3f9478",
   "metadata": {},
   "outputs": [
    {
     "data": {
      "text/plain": [
       "('Abhay', '50lakh')"
      ]
     },
     "execution_count": 6,
     "metadata": {},
     "output_type": "execute_result"
    }
   ],
   "source": [
    "\"\"\"Answer 3: __init__() is a Constructor in Python i.e It the first one to be executed when a object is \n",
    "created. It contains instuctions which are executed at the time of Object creation.\"\"\"\n",
    "class car:\n",
    "    def __init__(self,owner_name,cost):\n",
    "        self.owner = owner_name\n",
    "        self.cost = cost\n",
    "    def details(self):\n",
    "        return self.owner,self.cost\n",
    "    \n",
    "BMW_3_Series_GT = car(\"Abhay\",\"50lakh\")\n",
    "BMW_3_Series_GT.details()\n",
    "        "
   ]
  },
  {
   "cell_type": "code",
   "execution_count": 2,
   "id": "04cfa3e4-4fe7-40a1-bd63-ee6b3a030898",
   "metadata": {},
   "outputs": [],
   "source": [
    "\"\"\" Answer 4: Self is use in oops to denote and access the current Instance of the class i.e. the object of the Class at \n",
    "that moment.It is not necessary to use self we use any name instead of self.\"\"\"\n",
    "class student:\n",
    "    def __init__(self,name,roll_no):\n",
    "        self.name = name\n",
    "        self.roll_no = roll_no\n",
    "    def get_info(self):\n",
    "        return self.name,self.roll_no"
   ]
  },
  {
   "cell_type": "code",
   "execution_count": 4,
   "id": "dfac58dc-3c26-459b-8c00-3d2d425be3cb",
   "metadata": {},
   "outputs": [
    {
     "data": {
      "text/plain": [
       "(('Abhay', 10), ('Aniket', 11))"
      ]
     },
     "execution_count": 4,
     "metadata": {},
     "output_type": "execute_result"
    }
   ],
   "source": [
    "a = student(\"Abhay\",10)\n",
    "b = student(\"Aniket\",11)\n",
    "a.get_info(),b.get_info()"
   ]
  },
  {
   "cell_type": "code",
   "execution_count": 33,
   "id": "f6262059-fd03-479c-adbf-0a26e5ce45d1",
   "metadata": {},
   "outputs": [],
   "source": [
    "\"\"\" Answer 5 :Inheritance is the way through which a class can Inherit the Properties of another class.\"\"\"\n",
    "class a:\n",
    "    def info():\n",
    "        return \"Parent Class 1\"\n",
    "class b(a): # Single Inheritance\n",
    "    def info_b():\n",
    "        return \"Child Class 1\"\n",
    "class c(b): # Multilevel Inheritance\n",
    "    def info_c():\n",
    "        return \"Example of Multilevel Inheritance\"\n",
    "class d :\n",
    "    def info_d():\n",
    "        return \"Parent Class 2\"\n",
    "class e(a,d): #Multiple Inheritance\n",
    "    def info_e():\n",
    "        return \"Example of Multiple Inheritance\""
   ]
  },
  {
   "cell_type": "code",
   "execution_count": 34,
   "id": "fa684e09-f505-4ef9-91e4-27e3ad00bb57",
   "metadata": {},
   "outputs": [
    {
     "data": {
      "text/plain": [
       "('Child Class 1', 'Parent Class 1')"
      ]
     },
     "execution_count": 34,
     "metadata": {},
     "output_type": "execute_result"
    }
   ],
   "source": [
    "single_inheritance = b()\n",
    "b.info_b(),b.info()"
   ]
  },
  {
   "cell_type": "code",
   "execution_count": 35,
   "id": "ecb5546e-46ac-433a-a930-4deea914e9f3",
   "metadata": {},
   "outputs": [
    {
     "data": {
      "text/plain": [
       "('Example of Multilevel Inheritance', 'Parent Class 1', 'Child Class 1')"
      ]
     },
     "execution_count": 35,
     "metadata": {},
     "output_type": "execute_result"
    }
   ],
   "source": [
    "multilevel_inheritance = c()\n",
    "c.info_c(),c.info(),c.info_b()"
   ]
  },
  {
   "cell_type": "code",
   "execution_count": 36,
   "id": "150b0ced-0d22-4348-95fe-2d5e8c491529",
   "metadata": {},
   "outputs": [
    {
     "data": {
      "text/plain": [
       "('Example of Multiple Inheritance', 'Parent Class 1', 'Parent Class 2')"
      ]
     },
     "execution_count": 36,
     "metadata": {},
     "output_type": "execute_result"
    }
   ],
   "source": [
    "multiple_inheritance = e()\n",
    "e.info_e(),e.info(),e.info_d()"
   ]
  },
  {
   "cell_type": "code",
   "execution_count": null,
   "id": "1f986f2e-74b1-4c98-ad67-6dc8d55ce714",
   "metadata": {},
   "outputs": [],
   "source": []
  }
 ],
 "metadata": {
  "kernelspec": {
   "display_name": "Python 3 (ipykernel)",
   "language": "python",
   "name": "python3"
  },
  "language_info": {
   "codemirror_mode": {
    "name": "ipython",
    "version": 3
   },
   "file_extension": ".py",
   "mimetype": "text/x-python",
   "name": "python",
   "nbconvert_exporter": "python",
   "pygments_lexer": "ipython3",
   "version": "3.10.8"
  }
 },
 "nbformat": 4,
 "nbformat_minor": 5
}
