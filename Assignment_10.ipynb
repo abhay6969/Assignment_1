{
 "cells": [
  {
   "cell_type": "code",
   "execution_count": null,
   "id": "8b23ec84-b751-40b8-9fad-4c57753d3bda",
   "metadata": {},
   "outputs": [],
   "source": [
    "\"\"\" Answer 1:\n",
    "Open(\"FIlename\",\"Mode\") function is the function used to open and Manipulate files and the files\n",
    "can be open in various modes such as:\n",
    "1. \"r\"- This mode means that the file is open for reading only\n",
    "2. \"w\" - This mode open a File in write only mode which only only allows writing into a file\n",
    "3. \"a\" - This mode is used to append a file text into another file.\"\"\""
   ]
  },
  {
   "cell_type": "code",
   "execution_count": null,
   "id": "394e82d5-65f3-42c7-97f4-d1b0cc54e5f5",
   "metadata": {},
   "outputs": [],
   "source": [
    "\"\"\"Answer 2 : \n",
    "close() Function is used to close a file opened with the open() function. A file needs to be closed after \n",
    "the reading or writing operation as it needs to release the memory allocated by the Program . \"\"\""
   ]
  },
  {
   "cell_type": "code",
   "execution_count": 21,
   "id": "717628a4-447d-4ada-a10b-10243ae1ffe4",
   "metadata": {},
   "outputs": [],
   "source": [
    "#Answer 3 :\n",
    "f= open (\"new.txt\",\"w\")\n",
    "f.write(\"I want to become a Data Scientist\")\n",
    "f.close()"
   ]
  },
  {
   "cell_type": "code",
   "execution_count": 22,
   "id": "5fde3959-eb64-4caa-aa33-e54a7a68da16",
   "metadata": {},
   "outputs": [
    {
     "data": {
      "text/plain": [
       "'I want to become a Data Scientist'"
      ]
     },
     "execution_count": 22,
     "metadata": {},
     "output_type": "execute_result"
    }
   ],
   "source": [
    "f = open(\"new.txt\",\"r\")\n",
    "a = f.read()\n",
    "f.close()\n",
    "a"
   ]
  },
  {
   "cell_type": "code",
   "execution_count": 23,
   "id": "6eed8eb0-1d45-4dce-bbf0-fedcba58023c",
   "metadata": {},
   "outputs": [],
   "source": [
    "\"\"\"Answer 4 : \n",
    "read(): This function is used to read and return text from a file in the form of String.\n",
    "readline(): This Function works in the similar way as read () function, the only difference is that\n",
    "it reads only one line at a time and returns it.\n",
    "readlines(): This function reads all the lines in the file and return them as a string element inside a List\"\"\"\n",
    "f= open(\"new.txt\",\"w\")\n",
    "f.write(\"read(): This function is used to read and return text from a file in the form of String.readline(): This Function works in the similar way as read () function  the only difference is thatit reads only one line at a time and returns it.(): This function reads all the lines in the file and return them as a string element inside a List\")\n",
    "f.close()"
   ]
  },
  {
   "cell_type": "code",
   "execution_count": 32,
   "id": "470e544b-5e73-4694-9569-f6833b5973c8",
   "metadata": {},
   "outputs": [
    {
     "data": {
      "text/plain": [
       "'read(): This function is used to read and return text from a file in the form of String.readline(): This Function works in the similar way as read () function  the only difference is thatit reads only one line at a time and returns it.(): This function reads all the lines in the file and return them as a string element inside a List'"
      ]
     },
     "execution_count": 32,
     "metadata": {},
     "output_type": "execute_result"
    }
   ],
   "source": [
    "f = open(\"new.txt\",\"r\")\n",
    "a =f.read()\n",
    "f.close()\n",
    "a"
   ]
  },
  {
   "cell_type": "code",
   "execution_count": 36,
   "id": "35516f1d-6e6d-465f-8ec8-fd0f7972202a",
   "metadata": {},
   "outputs": [
    {
     "data": {
      "text/plain": [
       "'read(): This function is used to read and return text from a file in the form of String.readline(): This Function works in the similar way as read () function  the only difference is thatit reads only one line at a time and returns it.(): This function reads all the lines in the file and return them as a string element inside a List'"
      ]
     },
     "execution_count": 36,
     "metadata": {},
     "output_type": "execute_result"
    }
   ],
   "source": [
    "f = open(\"new.txt\",\"r\")\n",
    "b = f.readline()\n",
    "f.close()\n",
    "b"
   ]
  },
  {
   "cell_type": "code",
   "execution_count": 38,
   "id": "f730891d-5dd1-4f43-a7bb-5ae12a629504",
   "metadata": {},
   "outputs": [
    {
     "data": {
      "text/plain": [
       "['read(): This function is used to read and return text from a file in the form of String.readline(): This Function works in the similar way as read () function  the only difference is thatit reads only one line at a time and returns it.(): This function reads all the lines in the file and return them as a string element inside a List']"
      ]
     },
     "execution_count": 38,
     "metadata": {},
     "output_type": "execute_result"
    }
   ],
   "source": [
    "f = open(\"new.txt\",\"r\")\n",
    "c = f.readlines()\n",
    "f.close()\n",
    "c"
   ]
  },
  {
   "cell_type": "code",
   "execution_count": null,
   "id": "0f4523fb-6d80-47b4-9f0e-f66f65db6ec0",
   "metadata": {},
   "outputs": [],
   "source": [
    "\"\"\"Answer 5 : with statement is used together with open as when they are used together the file gets closed automatically\n",
    "after the program execution is done.  The main advantage of using with statement with open function is that even \n",
    "if the programmer forgets to close the File it closes itself .\"\"\""
   ]
  },
  {
   "cell_type": "code",
   "execution_count": 20,
   "id": "327dda16-aa31-40f4-a723-3b5505ff73e1",
   "metadata": {},
   "outputs": [],
   "source": [
    "\"\"\"Answer 6: Write(): This Function is used to write a single string  in a file .\n",
    "Writelines() : This function is used to write multiple strings or a list of strings in a File\"\"\"\n",
    "f = open(\"new1.txt\",\"w\")"
   ]
  },
  {
   "cell_type": "code",
   "execution_count": 21,
   "id": "70b25191-a8bb-4dd9-bc73-8b94941628a0",
   "metadata": {},
   "outputs": [],
   "source": [
    "a = \"Write(): This Function is used to write a single string  in a file .\"\n",
    "f.write(a)\n",
    "f.close()"
   ]
  },
  {
   "cell_type": "code",
   "execution_count": 22,
   "id": "b2f55e29-6675-4388-845c-5fac8e67f66f",
   "metadata": {},
   "outputs": [
    {
     "data": {
      "text/plain": [
       "'Write(): This Function is used to write a single string  in a file .'"
      ]
     },
     "execution_count": 22,
     "metadata": {},
     "output_type": "execute_result"
    }
   ],
   "source": [
    "f = open(\"new1.txt\",\"r\")\n",
    "re = f.read()\n",
    "re"
   ]
  },
  {
   "cell_type": "code",
   "execution_count": 24,
   "id": "472b9c6a-d75f-43d4-ba64-db2ddcef5439",
   "metadata": {},
   "outputs": [],
   "source": [
    "b = [\" Write(): This Function is used to write a single string  in a file .\",\"Writelines() : This function is used to write multiple strings or a list of strings in a File\"]\n",
    "f = open(\"new2.txt\",\"w\")\n",
    "f.writelines(b)\n",
    "f.close()"
   ]
  },
  {
   "cell_type": "code",
   "execution_count": 29,
   "id": "fa147668-b199-41a2-a05d-3d6409c55541",
   "metadata": {},
   "outputs": [
    {
     "data": {
      "text/plain": [
       "[' Write(): This Function is used to write a single string  in a file .Writelines() : This function is used to write multiple strings or a list of strings in a File']"
      ]
     },
     "execution_count": 29,
     "metadata": {},
     "output_type": "execute_result"
    }
   ],
   "source": [
    "f = open(\"new2.txt\",\"r\")\n",
    "re = f.readlines(80)\n",
    "re"
   ]
  },
  {
   "cell_type": "code",
   "execution_count": null,
   "id": "d9527a95-345b-47ef-a008-8b630cb405cf",
   "metadata": {},
   "outputs": [],
   "source": []
  }
 ],
 "metadata": {
  "kernelspec": {
   "display_name": "Python 3 (ipykernel)",
   "language": "python",
   "name": "python3"
  },
  "language_info": {
   "codemirror_mode": {
    "name": "ipython",
    "version": 3
   },
   "file_extension": ".py",
   "mimetype": "text/x-python",
   "name": "python",
   "nbconvert_exporter": "python",
   "pygments_lexer": "ipython3",
   "version": "3.10.8"
  }
 },
 "nbformat": 4,
 "nbformat_minor": 5
}
