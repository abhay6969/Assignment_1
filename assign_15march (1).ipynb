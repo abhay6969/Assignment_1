{
 "cells": [
  {
   "cell_type": "code",
   "execution_count": null,
   "id": "4f25ac26-c670-4266-984e-27944e1e5c68",
   "metadata": {},
   "outputs": [],
   "source": [
    "\"\"\"Answer 1:\n",
    "Artificial Intelligence (AI) refers to the development of computer systems that can perform \n",
    "tasks that normally require human intelligence, such as speech recognition,decision-making, and\n",
    "language translation.\n",
    "\n",
    "Machine Learning (ML) is a subset of AI that involves training computer using various mathematical\n",
    "algorithms to learn patterns and make predictions based on data, without being explicitly\n",
    "programmed.\n",
    "\n",
    "Deep Learning (DL) is a subsset of ML that uses artificial neural networks with multiple\n",
    "layers. These neural networks attempt to behave as humain brain allowing it to analyze and learn\n",
    "from complex data sets, such as images, video, and natural language.\n",
    "\"\"\""
   ]
  },
  {
   "cell_type": "code",
   "execution_count": null,
   "id": "da009943-3da9-4a41-aa42-3adf13ae12f8",
   "metadata": {},
   "outputs": [],
   "source": [
    "\"\"\"Answer 2:\n",
    "Supervised learning : It is a type of machine learning where an algorithm learns from labeled data\n",
    "and make predictions or decisions about new, unlabeled data.\n",
    "ex- Predicting house prices,Image Classification\n",
    "\"\"\""
   ]
  },
  {
   "cell_type": "code",
   "execution_count": null,
   "id": "db24e61a-a2bc-4bd5-ac8c-dd8476647cb2",
   "metadata": {},
   "outputs": [],
   "source": [
    "\"\"\"Answer 3:\n",
    "Unsupervised learning: It is a type of machine learning where an algorithm learns from unlabeled\n",
    "data without any guidance or supervision. In unsupervised learning, the algorithm identifies \n",
    "patterns and relationships in the data without any prior knowledge .\n",
    "ex-Clustering: An unsupervised learning algorithm could be used to group similar items together \n",
    "based on their features., \"\"\""
   ]
  },
  {
   "cell_type": "code",
   "execution_count": null,
   "id": "f7f8b7e2-ecad-4feb-988f-606e5053672e",
   "metadata": {},
   "outputs": [],
   "source": [
    "\"\"\"Answer 4:\n",
    "* AI (Artificial Intelligence) refers to the development of intelligent machines that can perform\n",
    "tasks that typically require human intelligence.\n",
    "* ML (Machine Learning) is a subset of AI that involves training algorithms to make predictions or\n",
    "decisions based on data, without being explicitly programmed. \n",
    "* DL (Deep Learning) is a subset of ML that uses neural networks with multiple layers to learn \n",
    "complex representations of data. DL algorithms can be used for tasks such as object recognition,\n",
    "speech recognition.\n",
    "* Data Science is a related field that involves extracting insights from data using statistical and \n",
    " computational methods.\"\"\""
   ]
  },
  {
   "cell_type": "code",
   "execution_count": null,
   "id": "610e7bfa-a3d1-4f97-827c-87ecb02bf569",
   "metadata": {},
   "outputs": [],
   "source": [
    "\"\"\"Answer 5:\n",
    "* Supervised learning is a type of machine learning where an algorithm learns from labeled data\n",
    "and make predictions or decisions about new, unlabeled data.\n",
    "*  In unsupervised learning, the algorithm identifies patterns and relationships in the data\n",
    "without any prior knowledge .\n",
    "* Semi-supervised learning is a combination of supervised and unsupervised learning, where the \n",
    "algorithm is trained on a dataset that includes both labeled and unlabeled data.\n",
    "\"\"\""
   ]
  },
  {
   "cell_type": "code",
   "execution_count": null,
   "id": "eba2626c-95c5-4dc0-8443-0b4d2cbc9ff7",
   "metadata": {},
   "outputs": [],
   "source": [
    "\"\"\"Answer 6:\n",
    "While training a ML model we split our data into three sets those are:\n",
    "1. Train Split: The Present in this split is completely used in Training the Machine Learning model.\n",
    "\n",
    "2. Validation Split: The data in the validation split is used to check the efficiency of the trained\n",
    "model and according to the result make adjustments in the model's Parameter.\n",
    "\n",
    "3. Test Split: Once the model has been trained and validated, it is tested on a separate portion of\n",
    "the dataset called the test set. This is a final evaluation of the model's performance, using \n",
    "data that it has never seen before.\n",
    "\"\"\""
   ]
  },
  {
   "cell_type": "code",
   "execution_count": null,
   "id": "5f291ab7-fb42-4124-95a7-e1cc7aa8621b",
   "metadata": {},
   "outputs": [],
   "source": [
    "\"\"\"Answer 7:\n",
    "Unsupervised learning can be for anomaly detection because it can identify patterns and\n",
    "relationships in data without requiring any prior knowledge of what the data should look like.\n",
    "Clustering and dimensionality reduction techniques can be used to detect anomalies by \n",
    "identifying data points that deviate from the normal patterns in the data.\n",
    "\"\"\""
   ]
  },
  {
   "cell_type": "code",
   "execution_count": null,
   "id": "93de5849-caac-4101-8c34-fde4ce450509",
   "metadata": {},
   "outputs": [],
   "source": [
    "\"\"\"Answer 8:\n",
    "Supervised Learning Algorithms:\n",
    "1. Linear Regression\n",
    "2. Logistic Regression\n",
    "3. Decision Trees\n",
    "4. Random Forests\n",
    "5. Support Vector Machines (SVM)\n",
    "\n",
    "Unsupervised Learning Algorithms:\n",
    "1. K-Means Clustering\n",
    "2. Hierarchical Clustering\n",
    "3. Principal Component Analysis (PCA)\n",
    "4. t-Distributed Stochastic Neighbor Embedding (t-SNE)\n",
    "5. Anomaly Detection\n",
    "\"\"\""
   ]
  }
 ],
 "metadata": {
  "kernelspec": {
   "display_name": "Python 3 (ipykernel)",
   "language": "python",
   "name": "python3"
  },
  "language_info": {
   "codemirror_mode": {
    "name": "ipython",
    "version": 3
   },
   "file_extension": ".py",
   "mimetype": "text/x-python",
   "name": "python",
   "nbconvert_exporter": "python",
   "pygments_lexer": "ipython3",
   "version": "3.10.8"
  }
 },
 "nbformat": 4,
 "nbformat_minor": 5
}
