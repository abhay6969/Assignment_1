{
 "cells": [
  {
   "cell_type": "code",
   "execution_count": null,
   "id": "30018059-ee67-4b8d-b532-e8b74b7554d0",
   "metadata": {},
   "outputs": [],
   "source": [
    "\"\"\"Answer 1:\n",
    "Statistics is the branch of Mathematics which deals collection, representation and \n",
    "summarization of the data. It has various techniques to summarize and display data such as \n",
    "varience, covarience and correlation , etc \"\"\""
   ]
  },
  {
   "cell_type": "code",
   "execution_count": null,
   "id": "317e52b8-f68e-461c-9832-49eaa460404f",
   "metadata": {},
   "outputs": [],
   "source": [
    "\"\"\"Answer 2:\n",
    "There are two main types of statistics: descriptive statistics and inferential statistics.\n",
    "\n",
    "Descriptive Statistics: this is used to summarize and describe the characteristics of a dataset. \n",
    "They provide a way to organize and present data using measures such as central tendency\n",
    "(mean, median, mode) and variability (range, standard deviation). For example, descriptive \n",
    "statistics might be used to summarize the test scores of a group of students.\n",
    "\n",
    "Inferential Statistics: Inferential statistics are used to draw conclusions\n",
    "about a larger population based on a sample of data. They use probability theory and hypothesis\n",
    "testing to determine if there is a significant difference or relationship between variables.\n",
    "Inferential statistics are often used to test hypotheses or to make predictions about future \n",
    "events based on historical data. For example, inferential statistics might be used to \n",
    "predict the likelihood of a customer purchasing a product\"\"\""
   ]
  },
  {
   "cell_type": "code",
   "execution_count": null,
   "id": "b39e1edc-b457-4cfe-85d6-c7105e8308f5",
   "metadata": {},
   "outputs": [],
   "source": [
    "\"\"\"Answer 3:\n",
    "There are four main types of data: nominal, ordinal, interval, and ratio:\n",
    "\n",
    "1. Nominal Data: Nominal data are categorical data. this type of data cannot be ranked or ordered. They\n",
    "can be represented by words or numbers. \n",
    "Examples - gender, ethnicity, color, and type of car.\n",
    "\n",
    "2. Ordinal Data: Ordinal data are also categorical data but thay can be ranked or ordered. Oridinal\n",
    "data has a natural order or sequence, but the intervals between the values may not be equal. Examples-\n",
    "rankings in a competition, education level, and income level.\n",
    "\n",
    "Interval Data: Interval data are data that have equal intervals between the values,but there is no \n",
    "true zero point. This means that the difference between the values can be calculated, Examples -\n",
    "temperature, dates, and IQ scores.\n",
    "\n",
    "Ratio Data: Ratio data are numerical data that have equal intervals between the values and a \n",
    "true zero point. Examples - height, weight, and income.\"\"\""
   ]
  },
  {
   "cell_type": "code",
   "execution_count": null,
   "id": "43c7ac90-f03e-400a-b74c-f48f7adf15bb",
   "metadata": {},
   "outputs": [],
   "source": [
    "\"\"\"Answer 4:\n",
    "Categorise the following datasets with respect to quantitative and qualitative data types:\n",
    "(i) Grading in exam: A+, A, B+, B, C+, C, D, E = Qualitative \n",
    "(ii) Colour of mangoes: yellow, green, orange, red = Qualitative\n",
    "(iii) Height data of a class: [178.9, 179, 179.5, 176, 177.2, 178.3, 175.8,...] = Quantitative\n",
    "(iv) Number of mangoes exported by a farm: [500, 600, 478, 672, ...] = Quantitative \"\"\""
   ]
  },
  {
   "cell_type": "code",
   "execution_count": null,
   "id": "fd59cfdb-b56a-4b2f-a331-c3574e415f18",
   "metadata": {},
   "outputs": [],
   "source": [
    "\"\"\"Answer 5:\n",
    "There are four levels of measurement: nominal, ordinal, interval, and ratio.\n",
    "\n",
    "1. Nominal variables are categorical variables that have no order or ranking, and are \n",
    "measured by assigning labels or names to each category. Examples include gender and blood type.\n",
    "\n",
    "2. Ordinal variables are categorical variables that have a natural order or ranking, and\n",
    "are measured by assigning a numerical value to each category. Examples include education level \n",
    "and socioeconomic status.\n",
    "\n",
    "Interval variables are numerical variables that have equal intervals between values, but no\n",
    "true zero point. Examples include temperature and dates measured in years.\n",
    "\n",
    "Ratio variables are numerical variables that have equal intervals between values and a true zero \n",
    "point. Examples include height, weight, and income.\"\"\""
   ]
  },
  {
   "cell_type": "code",
   "execution_count": null,
   "id": "d5bdd4b3-08a0-4e9d-831b-19dbb460ee17",
   "metadata": {},
   "outputs": [],
   "source": [
    "\"\"\"Answer 6: \n",
    "Understanding the level of measurement of a variable is important when analyzing data because \n",
    "it determines the type of operations that can be performed on the data, as well as the\n",
    "types of conclusions that can be drawn from the data.\n",
    "\n",
    "For example, consider a study that measures the temperature of several cities around the world in\n",
    "Celsius. Temperature is an interval variable, meaning that it has equal intervals between values \n",
    "but no true zero point. If the researcher wants to calculate the average temperature of the cities, \n",
    "they can use statistical analyses such as the mean or standard deviation.\n",
    "However, if the study measured the population of the cities, which is a ratio variable with a \n",
    "true zero point, then the statistical analysis would need to take into account the presence of zero\n",
    "values, such as using the geometric mean or correlation coefficient.\"\"\""
   ]
  },
  {
   "cell_type": "code",
   "execution_count": null,
   "id": "fb420029-b775-49e1-bc71-22c599ea54a8",
   "metadata": {},
   "outputs": [],
   "source": [
    "\"\"\"Answer 7:\n",
    "Nominal data is a type of Categorical data just like Ordinal data but the main difference between\n",
    "these two is that the Nominal Data is not ranked and Ordinal data is ranked.\n",
    "\n",
    "Examples of nominal data:\n",
    "Eye color: blue, brown, green, hazel, etc.\n",
    "\n",
    "Examples of ordinal data:\n",
    "Rating of a movie: poor, fair, good, very good, excellent\"\"\""
   ]
  },
  {
   "cell_type": "code",
   "execution_count": null,
   "id": "a3437e54-567f-4a58-8707-0907964a7a72",
   "metadata": {},
   "outputs": [],
   "source": [
    "\"\"\"Answer 8:\n",
    "A box plot,, is a type of plot that can be used to display data in terms of range.\n",
    "A box plot displays the distribution of a dataset by showing the median, the quartiles (Q1 and Q3),\n",
    "and the range of the data. \n",
    "By displaying the range of the data in this way, a box plot can help to identify the spread and \n",
    "skewness of the data, as well as any potential outliers. Box plots are particularly useful when\n",
    "comparing multiple datasets or groups of data, as they can easily show differences in the range and\n",
    "distribution of the data.\"\"\""
   ]
  },
  {
   "cell_type": "code",
   "execution_count": null,
   "id": "787d805f-613c-4a06-8a8a-5983b9402db3",
   "metadata": {},
   "outputs": [],
   "source": [
    "\"\"\"Answer 9:\n",
    "1. Descriptive statistics involve summarizing and describing the features of a set of data. Descriptive\n",
    "statistics are used to provide a quick and easy summary of a dataset, allowing researchers to \n",
    "identify patterns and trends in the data.\n",
    "example: we can use descriptive statistics to summarize data about the average income\n",
    "of residents in different neighborhoods.\n",
    "\n",
    "2. Inferential statistics, on the other hand, involve making predictions about a larger population\n",
    "based on a smaller sample of data. Inferential statistics are used to test hypotheses, determine \n",
    "whether results are statistically significant, and make predictions about the future based on the\n",
    "data.\n",
    "example: to estimate the proportion of people who support a particular political candidate based \n",
    "on a survey sample\n",
    "\n",
    "\"\"\""
   ]
  },
  {
   "cell_type": "code",
   "execution_count": null,
   "id": "e71cea2f-56a3-432e-bc86-38408fb66abb",
   "metadata": {},
   "outputs": [],
   "source": [
    "\"\"\"Answer 10:\n",
    "Measures of Central Tendency:\n",
    "1. Mean: It is the sum of all values in a dataset divided by the total number of values. It is\n",
    "also referred to as average value of the data. However, it is affected by outliers.\n",
    "2. Median: The median is the middle value in a dataset when it is ordered from smallest to largest.\n",
    "It is not affected by Outliers.\n",
    "3. Mode: It is the value that occurs most frequently in a dataset. It is often used for \n",
    "categorical data.\n",
    "\n",
    "Variability:\n",
    "1. Range: The range is the difference between the largest and smallest values in a dataset.\n",
    "It provides a measure of the spread of the dataset, it is affected by outliers.\n",
    "2. Standard Deviation: The standard deviation is a measure of how much the data deviates from \n",
    "the mean. It is calculated by finding the square root of the variance, which is the average squared \n",
    "difference from the mean. The standard deviation is a commonly used measure of variability because\n",
    "it provides a measure of the spread of the dataset and is not affected by outliers to the same \n",
    "extent as the range.\n",
    "\"\"\""
   ]
  }
 ],
 "metadata": {
  "kernelspec": {
   "display_name": "Python 3 (ipykernel)",
   "language": "python",
   "name": "python3"
  },
  "language_info": {
   "codemirror_mode": {
    "name": "ipython",
    "version": 3
   },
   "file_extension": ".py",
   "mimetype": "text/x-python",
   "name": "python",
   "nbconvert_exporter": "python",
   "pygments_lexer": "ipython3",
   "version": "3.10.8"
  }
 },
 "nbformat": 4,
 "nbformat_minor": 5
}
