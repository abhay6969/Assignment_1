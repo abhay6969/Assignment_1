{
 "cells": [
  {
   "cell_type": "code",
   "execution_count": null,
   "id": "6440c4b8-3b71-4add-94e2-02b128415d7c",
   "metadata": {},
   "outputs": [],
   "source": [
    "\"\"\"Answer 1:\n",
    "Data Encoding is the process of converting categorical data into numerical format so that it can be Processed by Machine learning \n",
    "Algorithms.Data encoding is useful in data science because it helps to improve the performance of machine learning models by converting \n",
    "categorical data into numerical data. Most of the machine learning algorithms are designed to work with numerical data, so converting \n",
    "categorical data into numerical data allows for more accurate analysis and modeling.\n",
    "\"\"\""
   ]
  },
  {
   "cell_type": "code",
   "execution_count": null,
   "id": "41f2a253-b4d6-4586-a5df-04322f695895",
   "metadata": {},
   "outputs": [],
   "source": [
    "\"\"\"Answer 2:\n",
    "Nominal encoding is a way to represent categorical data with a unique number, where the order of the categories does not matter. For \n",
    "example, if we have a dataset of colors that include \"red\", \"blue\", and \"green,\" we can assign a unique number to each color such as \n",
    "\"red\"=1, \"blue\"=2, and \"green\"=3.\n",
    "\"\"\""
   ]
  },
  {
   "cell_type": "code",
   "execution_count": null,
   "id": "02ed1250-d866-4e6d-9c45-c60ca52e8cde",
   "metadata": {},
   "outputs": [],
   "source": [
    "\"\"\"Answer 3:\n",
    "Nominal encoding is preferred over one-hot encoding when dealing with categorical variables that\n",
    "have a large number of unique categories or when the categories have no natural ordering or ranking.\n",
    "One-hot encoding can create a large number of new columns and may lead to the curse of dimensionality\n",
    "if there are many categories.\n",
    "For example, suppose we are working with a dataset that contains information about different types\n",
    "of food, including their country of origin, ingredients, and nutritional values. The country of\n",
    "origin feature may have many unique categories (e.g., every country that produces food) and may not\n",
    "have a natural ordering. In this case, using one-hot encoding would create too many new columns and \n",
    "make the dataset difficult to work with. Nominal encoding, such as label encoding or frequency\n",
    "encoding, would be a better choice in this scenario.\n",
    "\"\"\""
   ]
  },
  {
   "cell_type": "code",
   "execution_count": null,
   "id": "b9520816-fb10-4581-8430-242822e199fa",
   "metadata": {},
   "outputs": [],
   "source": [
    "\"\"\"Answer 4:\n",
    "To determine which encoding technique to use, we need to consider the nature of the categorical data and the requirements of the machine\n",
    "learning task. If the categorical data has no inherent order or ranking, one-hot encoding or binary encoding may be suitable. If there \n",
    "is an inherent order or ranking, ordinal encoding may be appropriate.\n",
    "\"\"\""
   ]
  },
  {
   "cell_type": "code",
   "execution_count": null,
   "id": "19fcfa86-99a6-4230-a34d-5c6a8abdb3a4",
   "metadata": {},
   "outputs": [],
   "source": [
    "\"\"\"Answer 5:\n",
    "If we use nominal encoding to transform the two categorical columns, each column would be converted\n",
    "into a set of new columns representing each category as a binary feature.The numbe of new of new\n",
    "columns will depend on the number of unique values the columns have. \n",
    "for example: \n",
    "If the first column has two unique values then after using Nominal Encoding the number of columns\n",
    "will increase by 2.\n",
    "\"\"\""
   ]
  },
  {
   "cell_type": "code",
   "execution_count": null,
   "id": "3cd0cd48-f2ec-4245-957e-03d6c1f43f11",
   "metadata": {},
   "outputs": [],
   "source": [
    "\"\"\"Answer 6:\n",
    "Nominal encoding techniques are suitable for categorical data with no inherent order or hierarchy\n",
    "among the categories, and they allow machine learning algorithms to process the categorical data as\n",
    "numerical data.\n",
    "\"\"\""
   ]
  },
  {
   "cell_type": "code",
   "execution_count": null,
   "id": "927cba27-e04f-4684-805d-47a6e52c66a8",
   "metadata": {},
   "outputs": [],
   "source": [
    "\"\"\"Answer 7:\n",
    "To transform categorical data into numerical data for a project involving customer churn prediction \n",
    "for a telecommunications company, we can use encoding techniques like binary, one-hot, or ordinal\n",
    "encoding, depending on the nature of the categorical data.\n",
    "\n",
    "For example, we can use binary encoding for the \"gender\" feature creating a new binary column with \n",
    "1 for male and 0 for female, one-hot encoding for the \"contract type\" feature creating three binary \n",
    "columns for each contract type, and ordinal encoding for the \"age\" feature replacing age groups\n",
    "with corresponding numerical values.\n",
    "\"\"\""
   ]
  }
 ],
 "metadata": {
  "kernelspec": {
   "display_name": "Python 3 (ipykernel)",
   "language": "python",
   "name": "python3"
  },
  "language_info": {
   "codemirror_mode": {
    "name": "ipython",
    "version": 3
   },
   "file_extension": ".py",
   "mimetype": "text/x-python",
   "name": "python",
   "nbconvert_exporter": "python",
   "pygments_lexer": "ipython3",
   "version": "3.10.8"
  }
 },
 "nbformat": 4,
 "nbformat_minor": 5
}
