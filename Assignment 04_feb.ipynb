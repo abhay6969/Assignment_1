{
 "cells": [
  {
   "cell_type": "code",
   "execution_count": 19,
   "id": "ea52687d-381a-4d14-9788-4d707ab7dca7",
   "metadata": {},
   "outputs": [
    {
     "data": {
      "text/plain": [
       "[('Virat Kholi', 24936),\n",
       " ('Jack Kallis', 25534),\n",
       " ('Ricky Ponting', 27483),\n",
       " ('Sachin Tendulkar', 34357)]"
      ]
     },
     "execution_count": 19,
     "metadata": {},
     "output_type": "execute_result"
    }
   ],
   "source": [
    "#Answer 1 Sorting in Ascending Order\n",
    "from functools import reduce\n",
    "l = [(\"Sachin Tendulkar\",34357),\n",
    "     (\"Ricky Ponting\",27483),(\"Jack Kallis\",25534),\n",
    "    (\"Virat Kholi\",24936)]\n",
    "l1 = sorted(l,key = lambda x:x[1],reverse = False)\n",
    "l1"
   ]
  },
  {
   "cell_type": "code",
   "execution_count": 21,
   "id": "ab14832e-2f97-4fbd-bacd-9c7ab749e25d",
   "metadata": {},
   "outputs": [
    {
     "data": {
      "text/plain": [
       "[1, 4, 9, 16, 25, 36, 49, 64, 81, 100]"
      ]
     },
     "execution_count": 21,
     "metadata": {},
     "output_type": "execute_result"
    }
   ],
   "source": [
    "#Answer 2 Lambda function to Square all the numbers in the List\n",
    "l = [1,2,3,4,5,6,7,8,9,10]\n",
    "b = list(map(lambda x:x**2,l))\n",
    "b"
   ]
  },
  {
   "cell_type": "code",
   "execution_count": 24,
   "id": "5743fb05-b4bb-4624-a378-3717eb7b6423",
   "metadata": {},
   "outputs": [
    {
     "data": {
      "text/plain": [
       "('1', '2', '3', '4', '5', '6', '7', '8', '9', '10')"
      ]
     },
     "execution_count": 24,
     "metadata": {},
     "output_type": "execute_result"
    }
   ],
   "source": [
    "#Answer 3 WAP to convert List of integers into Tuple of strings.\n",
    "m = [1,2,3,4,5,6,7,8,9,10]\n",
    "b = tuple (map(lambda x:str(x),m))\n",
    "b"
   ]
  },
  {
   "cell_type": "code",
   "execution_count": 31,
   "id": "2b04c736-9f58-4d03-8bc4-4f7486ef762b",
   "metadata": {},
   "outputs": [
    {
     "data": {
      "text/plain": [
       "15511210043330985984000000"
      ]
     },
     "execution_count": 31,
     "metadata": {},
     "output_type": "execute_result"
    }
   ],
   "source": [
    "#Answer 4 WAP to compute the product of a list containing elements from 1 to 25\n",
    "r = [i for i in range(1,26)]\n",
    "b = reduce(lambda x,y: x*y, r)\n",
    "b"
   ]
  },
  {
   "cell_type": "code",
   "execution_count": 32,
   "id": "2e0393e2-f9b2-4589-934f-7947d711bcf2",
   "metadata": {},
   "outputs": [
    {
     "data": {
      "text/plain": [
       "[6, 60, 90, 120]"
      ]
     },
     "execution_count": 32,
     "metadata": {},
     "output_type": "execute_result"
    }
   ],
   "source": [
    "#Answer 5 WAP to Filter the numbers in the List which are divisible by 2 and 3\n",
    "f = [2,3,6,9,27,60,90,120,55,46]\n",
    "b = list(filter(lambda x : x%2==0 and x%3==0,f))\n",
    "b"
   ]
  },
  {
   "cell_type": "code",
   "execution_count": 33,
   "id": "4a8dc465-3548-4e40-90a7-507e699cd808",
   "metadata": {},
   "outputs": [
    {
     "data": {
      "text/plain": [
       "['php', 'radar', 'level']"
      ]
     },
     "execution_count": 33,
     "metadata": {},
     "output_type": "execute_result"
    }
   ],
   "source": [
    "#Answer 6 WAP to Find Palindrome Strings int the given List using a Lambda Function\n",
    "s = [\"python\",\"php\",\"radar\",\"level\"]\n",
    "b = list(filter(lambda x:x == x[::-1],s))\n",
    "b"
   ]
  }
 ],
 "metadata": {
  "kernelspec": {
   "display_name": "Python 3 (ipykernel)",
   "language": "python",
   "name": "python3"
  },
  "language_info": {
   "codemirror_mode": {
    "name": "ipython",
    "version": 3
   },
   "file_extension": ".py",
   "mimetype": "text/x-python",
   "name": "python",
   "nbconvert_exporter": "python",
   "pygments_lexer": "ipython3",
   "version": "3.10.8"
  }
 },
 "nbformat": 4,
 "nbformat_minor": 5
}
